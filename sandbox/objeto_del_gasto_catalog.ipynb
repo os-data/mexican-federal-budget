{
 "cells": [
  {
   "cell_type": "markdown",
   "metadata": {},
   "source": [
    "# Generate `Objeto de Gasto` catalog\n",
    "\n",
    "## File ingestion"
   ]
  },
  {
   "cell_type": "code",
   "execution_count": 25,
   "metadata": {
    "collapsed": true
   },
   "outputs": [],
   "source": [
    "from pandas import ExcelFile, read_excel, DataFrame\n",
    "from slugify import slugify"
   ]
  },
  {
   "cell_type": "code",
   "execution_count": 22,
   "metadata": {
    "collapsed": false
   },
   "outputs": [
    {
     "name": "stdout",
     "output_type": "stream",
     "text": [
      "/home/loic/repos/mexico\n"
     ]
    }
   ],
   "source": [
    "cd /home/loic/repos/mexico"
   ]
  },
  {
   "cell_type": "code",
   "execution_count": 24,
   "metadata": {
    "collapsed": false
   },
   "outputs": [],
   "source": [
    "catalog_file = ExcelFile('objeto_del_gasto.split.xlsx')"
   ]
  },
  {
   "cell_type": "code",
   "execution_count": 80,
   "metadata": {
    "collapsed": false
   },
   "outputs": [
    {
     "name": "stdout",
     "output_type": "stream",
     "text": [
      "Loaded sheet Concatenated into \"concatenated\" (460 lines)\n",
      "Columns = ['CAPITULO', 'CONCEPTO', 'PARTIDA_GENERICA', 'PARTIDA_ESPECIFICA', 'DESCRIPCION']\n",
      "Loaded sheet CAPITULO into \"capitulo\" (9 lines)\n",
      "Columns = ['CAPITULO', 'DESCRIPCION']\n",
      "Loaded sheet CONCEPTO into \"concepto\" (88 lines)\n",
      "Columns = ['CONCEPTO', 'DESCRIPCION']\n",
      "Loaded sheet PARTIDA GENERICA into \"partida_generica\" (351 lines)\n",
      "Columns = ['PARTIDA_GENERICA', 'DESCRIPCION']\n",
      "Loaded sheet PARTIDA ESPECÍFICA into \"partida_especifica\" (460 lines)\n",
      "Columns = ['PARTIDA_ESPECIFICA', 'DESCRIPCION']\n"
     ]
    }
   ],
   "source": [
    "catalog = {}\n",
    "\n",
    "for sheet in catalog_file.sheet_names:\n",
    "    name = slugify(sheet, separator='_')\n",
    "    catalog[name] = catalog_file.parse(sheet).dropna()\n",
    "    message = 'Loaded sheet {sheet} into \"{name}\" ({nb} lines)'\n",
    "    parameters = dict(sheet=sheet, name=name, nb=len(catalog[name]))\n",
    "    print(message.format(**parameters))\n",
    "    print('Columns =', list(catalog[name].columns))"
   ]
  },
  {
   "cell_type": "markdown",
   "metadata": {},
   "source": [
    "## Quality assurance\n",
    "\n",
    "The \"Concatenated\" and the \"PARTIDA ESPECÍFICA\" sheets must be the same."
   ]
  },
  {
   "cell_type": "code",
   "execution_count": 61,
   "metadata": {
    "collapsed": false
   },
   "outputs": [
    {
     "name": "stdout",
     "output_type": "stream",
     "text": [
      "<class 'pandas.core.frame.DataFrame'>\n",
      "Int64Index: 460 entries, 11101 to 99101\n",
      "Data columns (total 1 columns):\n",
      "DESCRIPCION    460 non-null object\n",
      "dtypes: object(1)\n",
      "memory usage: 7.2+ KB\n",
      "None\n"
     ]
    },
    {
     "data": {
      "text/html": [
       "<div>\n",
       "<table border=\"1\" class=\"dataframe\">\n",
       "  <thead>\n",
       "    <tr style=\"text-align: right;\">\n",
       "      <th></th>\n",
       "      <th>DESCRIPCION</th>\n",
       "    </tr>\n",
       "    <tr>\n",
       "      <th>PARTIDA_ESPECIFICA</th>\n",
       "      <th></th>\n",
       "    </tr>\n",
       "  </thead>\n",
       "  <tbody>\n",
       "    <tr>\n",
       "      <th>11101</th>\n",
       "      <td>(Derogada)</td>\n",
       "    </tr>\n",
       "    <tr>\n",
       "      <th>11201</th>\n",
       "      <td>Haberes</td>\n",
       "    </tr>\n",
       "    <tr>\n",
       "      <th>11301</th>\n",
       "      <td>Sueldos base</td>\n",
       "    </tr>\n",
       "    <tr>\n",
       "      <th>11401</th>\n",
       "      <td>Retribuciones por adscripción en el extranjero</td>\n",
       "    </tr>\n",
       "    <tr>\n",
       "      <th>12101</th>\n",
       "      <td>Honorarios</td>\n",
       "    </tr>\n",
       "  </tbody>\n",
       "</table>\n",
       "</div>"
      ],
      "text/plain": [
       "                                                       DESCRIPCION\n",
       "PARTIDA_ESPECIFICA                                                \n",
       "11101                                                   (Derogada)\n",
       "11201                                                      Haberes\n",
       "11301                                                 Sueldos base\n",
       "11401               Retribuciones por adscripción en el extranjero\n",
       "12101                                                   Honorarios"
      ]
     },
     "execution_count": 61,
     "metadata": {},
     "output_type": "execute_result"
    }
   ],
   "source": [
    "catalog['partida_especifica']['PARTIDA_ESPECIFICA'] =  catalog['partida_especifica']['PARTIDA_ESPECIFICA'].astype(int)\n",
    "especifica_1 = catalog['partida_especifica'].set_index('PARTIDA_ESPECIFICA').sort_index()\n",
    "print(especifica_1.info())\n",
    "especifica_1.head(n=5)"
   ]
  },
  {
   "cell_type": "code",
   "execution_count": 65,
   "metadata": {
    "collapsed": false
   },
   "outputs": [
    {
     "name": "stdout",
     "output_type": "stream",
     "text": [
      "<class 'pandas.core.frame.DataFrame'>\n",
      "Int64Index: 460 entries, 11101 to 99101\n",
      "Data columns (total 1 columns):\n",
      "DESCRIPCION    460 non-null object\n",
      "dtypes: object(1)\n",
      "memory usage: 7.2+ KB\n",
      "None\n"
     ]
    },
    {
     "data": {
      "text/html": [
       "<div>\n",
       "<table border=\"1\" class=\"dataframe\">\n",
       "  <thead>\n",
       "    <tr style=\"text-align: right;\">\n",
       "      <th></th>\n",
       "      <th>DESCRIPCION</th>\n",
       "    </tr>\n",
       "    <tr>\n",
       "      <th>PARTIDA_ESPECIFICA</th>\n",
       "      <th></th>\n",
       "    </tr>\n",
       "  </thead>\n",
       "  <tbody>\n",
       "    <tr>\n",
       "      <th>11101</th>\n",
       "      <td>(Derogada)</td>\n",
       "    </tr>\n",
       "    <tr>\n",
       "      <th>11201</th>\n",
       "      <td>Haberes</td>\n",
       "    </tr>\n",
       "    <tr>\n",
       "      <th>11301</th>\n",
       "      <td>Sueldos base</td>\n",
       "    </tr>\n",
       "    <tr>\n",
       "      <th>11401</th>\n",
       "      <td>Retribuciones por adscripción en el extranjero</td>\n",
       "    </tr>\n",
       "    <tr>\n",
       "      <th>12101</th>\n",
       "      <td>Honorarios</td>\n",
       "    </tr>\n",
       "  </tbody>\n",
       "</table>\n",
       "</div>"
      ],
      "text/plain": [
       "                                                       DESCRIPCION\n",
       "PARTIDA_ESPECIFICA                                                \n",
       "11101                                                   (Derogada)\n",
       "11201                                                      Haberes\n",
       "11301                                                 Sueldos base\n",
       "11401               Retribuciones por adscripción en el extranjero\n",
       "12101                                                   Honorarios"
      ]
     },
     "execution_count": 65,
     "metadata": {},
     "output_type": "execute_result"
    }
   ],
   "source": [
    "catalog['concatenated']['PARTIDA_ESPECIFICA'] =  catalog['concatenated']['PARTIDA_ESPECIFICA'].astype(int)\n",
    "especifica_2 = catalog['concatenated'][['PARTIDA_ESPECIFICA', 'DESCRIPCION']].set_index('PARTIDA_ESPECIFICA').sort_index()\n",
    "print(especifica_2.info())\n",
    "especifica_2.head(n=5)"
   ]
  },
  {
   "cell_type": "code",
   "execution_count": 67,
   "metadata": {
    "collapsed": false
   },
   "outputs": [],
   "source": [
    "comparaison = especifica_1 == especifica_2"
   ]
  },
  {
   "cell_type": "code",
   "execution_count": 69,
   "metadata": {
    "collapsed": false
   },
   "outputs": [
    {
     "data": {
      "text/plain": [
       "DESCRIPCION    True\n",
       "dtype: bool"
      ]
     },
     "execution_count": 69,
     "metadata": {},
     "output_type": "execute_result"
    }
   ],
   "source": [
    "comparaison.all()"
   ]
  },
  {
   "cell_type": "markdown",
   "metadata": {},
   "source": [
    "Okay, everything seems to be coherent, after I get rid of the hidden rows in the `Concatenated` sheet. \n",
    "\n",
    "## Lookup table\n",
    "\n",
    "Now I need to generate lookup tables for `CAPITULO`, `CONCEPTO`, `PARTIDA_GENERICA` and `PARTIDA_ESPECIFICA`, or rather a lookup function which gives me the description from the ID. It's as simple as using the dataframe indexing, like so:"
   ]
  },
  {
   "cell_type": "code",
   "execution_count": 76,
   "metadata": {
    "collapsed": false
   },
   "outputs": [
    {
     "data": {
      "text/plain": [
       "DESCRIPCION    (Derogada)\n",
       "Name: 11101, dtype: object"
      ]
     },
     "execution_count": 76,
     "metadata": {},
     "output_type": "execute_result"
    }
   ],
   "source": [
    "especifica_1.loc[11101]"
   ]
  },
  {
   "cell_type": "code",
   "execution_count": 98,
   "metadata": {
    "collapsed": true
   },
   "outputs": [],
   "source": [
    "from os.path import join\n",
    "\n",
    "def generate_catalog(file):\n",
    "    \n",
    "    new_columns = {}\n",
    "    catalog_file = ExcelFile(file)\n",
    "    INDEX_COLUMN = 0\n",
    "    \n",
    "    for sheet in catalog_file.sheet_names:\n",
    "        if sheet != 'Concatenated':\n",
    "            name = slugify(sheet, separator='_')\n",
    "            output = join('..', 'objeto_del_gasto.catalog', name + '.csv')\n",
    "\n",
    "            df = catalog_file.parse(sheet).dropna()\n",
    "            index = df.columns[INDEX_COLUMN]\n",
    "\n",
    "            df[index] =  df[index].astype(int)\n",
    "            df.set_index(index, inplace=True)\n",
    "            df.sort_index(inplace=True)\n",
    "            \n",
    "            new_columns[name] = df\n",
    "            df.to_csv(output)\n",
    "            \n",
    "            message = 'Loaded sheet {sheet} into \"{name}\" ({nb} lines)'\n",
    "            parameters = dict(sheet=sheet, name=name, nb=len(catalog[name]))\n",
    "\n",
    "            print(message.format(**parameters))\n",
    "            print('Columns =', list(catalog[name].columns))\n",
    "            print('Saved to', output)\n",
    "            \n",
    "    return new_columns"
   ]
  },
  {
   "cell_type": "code",
   "execution_count": 99,
   "metadata": {
    "collapsed": false
   },
   "outputs": [
    {
     "name": "stdout",
     "output_type": "stream",
     "text": [
      "Loaded sheet CAPITULO into \"capitulo\" (9 lines)\n",
      "Columns = ['DESCRIPCION']\n",
      "Saved to ../objeto_del_gasto.catalog/capitulo.csv\n",
      "Loaded sheet CONCEPTO into \"concepto\" (88 lines)\n",
      "Columns = ['DESCRIPCION']\n",
      "Saved to ../objeto_del_gasto.catalog/concepto.csv\n",
      "Loaded sheet PARTIDA GENERICA into \"partida_generica\" (351 lines)\n",
      "Columns = ['DESCRIPCION']\n",
      "Saved to ../objeto_del_gasto.catalog/partida_generica.csv\n",
      "Loaded sheet PARTIDA ESPECÍFICA into \"partida_especifica\" (460 lines)\n",
      "Columns = ['DESCRIPCION']\n",
      "Saved to ../objeto_del_gasto.catalog/partida_especifica.csv\n"
     ]
    }
   ],
   "source": [
    "catalog = generate_catalog('objeto_del_gasto.catalog.xlsx')"
   ]
  },
  {
   "cell_type": "code",
   "execution_count": 94,
   "metadata": {
    "collapsed": false
   },
   "outputs": [
    {
     "data": {
      "text/plain": [
       "DESCRIPCION    Servicios personales\n",
       "Name: 1000, dtype: object"
      ]
     },
     "execution_count": 94,
     "metadata": {},
     "output_type": "execute_result"
    }
   ],
   "source": [
    "catalog['capitulo'].loc[1000]"
   ]
  },
  {
   "cell_type": "code",
   "execution_count": 115,
   "metadata": {
    "collapsed": false
   },
   "outputs": [
    {
     "data": {
      "text/plain": [
       "DESCRIPCION    Materiales y útiles de oficina\n",
       "Name: 21101, dtype: object"
      ]
     },
     "execution_count": 115,
     "metadata": {},
     "output_type": "execute_result"
    }
   ],
   "source": [
    "catalog['partida_especifica'].loc[21101]"
   ]
  },
  {
   "cell_type": "markdown",
   "metadata": {},
   "source": [
    "## Read pre-processed catalog files"
   ]
  },
  {
   "cell_type": "code",
   "execution_count": 111,
   "metadata": {
    "collapsed": false
   },
   "outputs": [
    {
     "name": "stdout",
     "output_type": "stream",
     "text": [
      "Loading partida_generica\n",
      "<class 'pandas.core.frame.DataFrame'>\n",
      "Int64Index: 351 entries, 111 to 991\n",
      "Data columns (total 1 columns):\n",
      "DESCRIPCION    351 non-null object\n",
      "dtypes: object(1)\n",
      "memory usage: 5.5+ KB\n",
      "None \n",
      "\n",
      "Loading capitulo\n",
      "<class 'pandas.core.frame.DataFrame'>\n",
      "Int64Index: 9 entries, 1000 to 9000\n",
      "Data columns (total 1 columns):\n",
      "DESCRIPCION    9 non-null object\n",
      "dtypes: object(1)\n",
      "memory usage: 144.0+ bytes\n",
      "None \n",
      "\n",
      "Loading concepto\n",
      "<class 'pandas.core.frame.DataFrame'>\n",
      "Int64Index: 88 entries, 1100 to 9900\n",
      "Data columns (total 1 columns):\n",
      "DESCRIPCION    88 non-null object\n",
      "dtypes: object(1)\n",
      "memory usage: 1.4+ KB\n",
      "None \n",
      "\n",
      "Loading partida_especifica\n",
      "<class 'pandas.core.frame.DataFrame'>\n",
      "Int64Index: 460 entries, 11101 to 99101\n",
      "Data columns (total 1 columns):\n",
      "DESCRIPCION    460 non-null object\n",
      "dtypes: object(1)\n",
      "memory usage: 7.2+ KB\n",
      "None \n",
      "\n"
     ]
    }
   ],
   "source": [
    "from pandas import read_csv\n",
    "from os import listdir\n",
    "from os.path import join\n",
    "\n",
    "def load_catalogs(folder):\n",
    "    \n",
    "    catalogs = {}\n",
    "    files = listdir(folder)\n",
    "    \n",
    "    for file in files:\n",
    "        name = file.split('.')[0]\n",
    "        print('Loading', name)\n",
    "        filepath = join(folder, file)\n",
    "        \n",
    "        catalogs[name] = read_csv(filepath)\n",
    "        index_column = catalogs[name].columns[0]\n",
    "        catalogs[name].set_index(index_column, inplace=True)\n",
    "    \n",
    "        print(catalogs[name].info(), '\\n')\n",
    "    \n",
    "    return catalogs\n",
    "\n",
    "catalogs = load_catalogs('objeto_del_gasto.catalog')"
   ]
  },
  {
   "cell_type": "code",
   "execution_count": 114,
   "metadata": {
    "collapsed": false
   },
   "outputs": [
    {
     "data": {
      "text/plain": [
       "DESCRIPCION    Materiales y suministros\n",
       "Name: 2000, dtype: object"
      ]
     },
     "execution_count": 114,
     "metadata": {},
     "output_type": "execute_result"
    }
   ],
   "source": [
    "catalogs['capitulo'].loc[2000]"
   ]
  }
 ],
 "metadata": {
  "kernelspec": {
   "display_name": "Python 3",
   "language": "python",
   "name": "python3"
  },
  "language_info": {
   "codemirror_mode": {
    "name": "ipython",
    "version": 3
   },
   "file_extension": ".py",
   "mimetype": "text/x-python",
   "name": "python",
   "nbconvert_exporter": "python",
   "pygments_lexer": "ipython3",
   "version": "3.5.1+"
  }
 },
 "nbformat": 4,
 "nbformat_minor": 0
}
