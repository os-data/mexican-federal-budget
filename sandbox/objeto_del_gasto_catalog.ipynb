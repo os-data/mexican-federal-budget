{
 "cells": [
  {
   "cell_type": "code",
   "execution_count": 1,
   "metadata": {
    "collapsed": true
   },
   "outputs": [],
   "source": [
    "# Generate `Objeto de Gasto` catalog\n",
    "\n",
    "## File ingestion"
   ]
  },
  {
   "cell_type": "code",
   "execution_count": 2,
   "metadata": {
    "collapsed": true
   },
   "outputs": [],
   "source": [
    "from pandas import ExcelFile, read_excel, DataFrame\n",
    "from slugify import slugify"
   ]
  },
  {
   "cell_type": "code",
   "execution_count": 3,
   "metadata": {
    "collapsed": false
   },
   "outputs": [
    {
     "name": "stdout",
     "output_type": "stream",
     "text": [
      "/home/loic/repos/mexico\n"
     ]
    }
   ],
   "source": [
    "cd /home/loic/repos/mexico"
   ]
  },
  {
   "cell_type": "code",
   "execution_count": 7,
   "metadata": {
    "collapsed": false
   },
   "outputs": [],
   "source": [
    "catalog_file = ExcelFile('objeto_del_gasto.catalog.xlsx')"
   ]
  },
  {
   "cell_type": "code",
   "execution_count": 8,
   "metadata": {
    "collapsed": false
   },
   "outputs": [
    {
     "name": "stdout",
     "output_type": "stream",
     "text": [
      "Loaded sheet Concatenated into \"concatenated\" (460 lines)\n",
      "Columns = ['CAPITULO', 'CONCEPTO', 'PARTIDA_GENERICA', 'PARTIDA_ESPECIFICA', 'DESCRIPCION']\n",
      "Loaded sheet CAPITULO into \"capitulo\" (9 lines)\n",
      "Columns = ['CAPITULO', 'DESCRIPCION']\n",
      "Loaded sheet CONCEPTO into \"concepto\" (88 lines)\n",
      "Columns = ['CONCEPTO', 'DESCRIPCION']\n",
      "Loaded sheet PARTIDA GENERICA into \"partida_generica\" (355 lines)\n",
      "Columns = ['PARTIDA_GENERICA', 'DESCRIPCION']\n",
      "Loaded sheet PARTIDA ESPECÍFICA into \"partida_especifica\" (668 lines)\n",
      "Columns = ['PARTIDA_ESPECIFICA', 'DESCRIPCION']\n"
     ]
    }
   ],
   "source": [
    "catalog = {}\n",
    "\n",
    "for sheet in catalog_file.sheet_names:\n",
    "    name = slugify(sheet, separator='_')\n",
    "    catalog[name] = catalog_file.parse(sheet).dropna()\n",
    "    message = 'Loaded sheet {sheet} into \"{name}\" ({nb} lines)'\n",
    "    parameters = dict(sheet=sheet, name=name, nb=len(catalog[name]))\n",
    "    print(message.format(**parameters))\n",
    "    print('Columns =', list(catalog[name].columns))"
   ]
  },
  {
   "cell_type": "markdown",
   "metadata": {},
   "source": [
    "## Quality assurance\n",
    "\n",
    "The \"Concatenated\" and the \"PARTIDA ESPECÍFICA\" sheets must be the same."
   ]
  },
  {
   "cell_type": "code",
   "execution_count": 61,
   "metadata": {
    "collapsed": false
   },
   "outputs": [
    {
     "name": "stdout",
     "output_type": "stream",
     "text": [
      "<class 'pandas.core.frame.DataFrame'>\n",
      "Int64Index: 460 entries, 11101 to 99101\n",
      "Data columns (total 1 columns):\n",
      "DESCRIPCION    460 non-null object\n",
      "dtypes: object(1)\n",
      "memory usage: 7.2+ KB\n",
      "None\n"
     ]
    },
    {
     "data": {
      "text/html": [
       "<div>\n",
       "<table border=\"1\" class=\"dataframe\">\n",
       "  <thead>\n",
       "    <tr style=\"text-align: right;\">\n",
       "      <th></th>\n",
       "      <th>DESCRIPCION</th>\n",
       "    </tr>\n",
       "    <tr>\n",
       "      <th>PARTIDA_ESPECIFICA</th>\n",
       "      <th></th>\n",
       "    </tr>\n",
       "  </thead>\n",
       "  <tbody>\n",
       "    <tr>\n",
       "      <th>11101</th>\n",
       "      <td>(Derogada)</td>\n",
       "    </tr>\n",
       "    <tr>\n",
       "      <th>11201</th>\n",
       "      <td>Haberes</td>\n",
       "    </tr>\n",
       "    <tr>\n",
       "      <th>11301</th>\n",
       "      <td>Sueldos base</td>\n",
       "    </tr>\n",
       "    <tr>\n",
       "      <th>11401</th>\n",
       "      <td>Retribuciones por adscripción en el extranjero</td>\n",
       "    </tr>\n",
       "    <tr>\n",
       "      <th>12101</th>\n",
       "      <td>Honorarios</td>\n",
       "    </tr>\n",
       "  </tbody>\n",
       "</table>\n",
       "</div>"
      ],
      "text/plain": [
       "                                                       DESCRIPCION\n",
       "PARTIDA_ESPECIFICA                                                \n",
       "11101                                                   (Derogada)\n",
       "11201                                                      Haberes\n",
       "11301                                                 Sueldos base\n",
       "11401               Retribuciones por adscripción en el extranjero\n",
       "12101                                                   Honorarios"
      ]
     },
     "execution_count": 61,
     "metadata": {},
     "output_type": "execute_result"
    }
   ],
   "source": [
    "catalog['partida_especifica']['PARTIDA_ESPECIFICA'] =  catalog['partida_especifica']['PARTIDA_ESPECIFICA'].astype(int)\n",
    "especifica_1 = catalog['partida_especifica'].set_index('PARTIDA_ESPECIFICA').sort_index()\n",
    "print(especifica_1.info())\n",
    "especifica_1.head(n=5)"
   ]
  },
  {
   "cell_type": "code",
   "execution_count": 65,
   "metadata": {
    "collapsed": false
   },
   "outputs": [
    {
     "name": "stdout",
     "output_type": "stream",
     "text": [
      "<class 'pandas.core.frame.DataFrame'>\n",
      "Int64Index: 460 entries, 11101 to 99101\n",
      "Data columns (total 1 columns):\n",
      "DESCRIPCION    460 non-null object\n",
      "dtypes: object(1)\n",
      "memory usage: 7.2+ KB\n",
      "None\n"
     ]
    },
    {
     "data": {
      "text/html": [
       "<div>\n",
       "<table border=\"1\" class=\"dataframe\">\n",
       "  <thead>\n",
       "    <tr style=\"text-align: right;\">\n",
       "      <th></th>\n",
       "      <th>DESCRIPCION</th>\n",
       "    </tr>\n",
       "    <tr>\n",
       "      <th>PARTIDA_ESPECIFICA</th>\n",
       "      <th></th>\n",
       "    </tr>\n",
       "  </thead>\n",
       "  <tbody>\n",
       "    <tr>\n",
       "      <th>11101</th>\n",
       "      <td>(Derogada)</td>\n",
       "    </tr>\n",
       "    <tr>\n",
       "      <th>11201</th>\n",
       "      <td>Haberes</td>\n",
       "    </tr>\n",
       "    <tr>\n",
       "      <th>11301</th>\n",
       "      <td>Sueldos base</td>\n",
       "    </tr>\n",
       "    <tr>\n",
       "      <th>11401</th>\n",
       "      <td>Retribuciones por adscripción en el extranjero</td>\n",
       "    </tr>\n",
       "    <tr>\n",
       "      <th>12101</th>\n",
       "      <td>Honorarios</td>\n",
       "    </tr>\n",
       "  </tbody>\n",
       "</table>\n",
       "</div>"
      ],
      "text/plain": [
       "                                                       DESCRIPCION\n",
       "PARTIDA_ESPECIFICA                                                \n",
       "11101                                                   (Derogada)\n",
       "11201                                                      Haberes\n",
       "11301                                                 Sueldos base\n",
       "11401               Retribuciones por adscripción en el extranjero\n",
       "12101                                                   Honorarios"
      ]
     },
     "execution_count": 65,
     "metadata": {},
     "output_type": "execute_result"
    }
   ],
   "source": [
    "catalog['concatenated']['PARTIDA_ESPECIFICA'] =  catalog['concatenated']['PARTIDA_ESPECIFICA'].astype(int)\n",
    "especifica_2 = catalog['concatenated'][['PARTIDA_ESPECIFICA', 'DESCRIPCION']].set_index('PARTIDA_ESPECIFICA').sort_index()\n",
    "print(especifica_2.info())\n",
    "especifica_2.head(n=5)"
   ]
  },
  {
   "cell_type": "code",
   "execution_count": 67,
   "metadata": {
    "collapsed": false
   },
   "outputs": [],
   "source": [
    "comparaison = especifica_1 == especifica_2"
   ]
  },
  {
   "cell_type": "code",
   "execution_count": 69,
   "metadata": {
    "collapsed": false
   },
   "outputs": [
    {
     "data": {
      "text/plain": [
       "DESCRIPCION    True\n",
       "dtype: bool"
      ]
     },
     "execution_count": 69,
     "metadata": {},
     "output_type": "execute_result"
    }
   ],
   "source": [
    "comparaison.all()"
   ]
  },
  {
   "cell_type": "markdown",
   "metadata": {},
   "source": [
    "Okay, everything seems to be coherent, after I get rid of the hidden rows in the `Concatenated` sheet. \n",
    "\n",
    "## Lookup table\n",
    "\n",
    "Now I need to generate lookup tables for `CAPITULO`, `CONCEPTO`, `PARTIDA_GENERICA` and `PARTIDA_ESPECIFICA`, or rather a lookup function which gives me the description from the ID. It's as simple as using the dataframe indexing, like so:"
   ]
  },
  {
   "cell_type": "code",
   "execution_count": 76,
   "metadata": {
    "collapsed": false
   },
   "outputs": [
    {
     "data": {
      "text/plain": [
       "DESCRIPCION    (Derogada)\n",
       "Name: 11101, dtype: object"
      ]
     },
     "execution_count": 76,
     "metadata": {},
     "output_type": "execute_result"
    }
   ],
   "source": [
    "especifica_1.loc[11101]"
   ]
  },
  {
   "cell_type": "code",
   "execution_count": 12,
   "metadata": {
    "collapsed": true
   },
   "outputs": [],
   "source": [
    "from os.path import join\n",
    "\n",
    "def generate_catalog(file):\n",
    "    \n",
    "    new_columns = {}\n",
    "    catalog_file = ExcelFile(file)\n",
    "    INDEX_COLUMN = 0\n",
    "    \n",
    "    for sheet in catalog_file.sheet_names:\n",
    "        if sheet != 'Concatenated':\n",
    "            name = slugify(sheet, separator='_')\n",
    "            output = join('objeto_del_gasto.catalog', name + '.csv')\n",
    "\n",
    "            df = catalog_file.parse(sheet).dropna()\n",
    "            index = df.columns[INDEX_COLUMN]\n",
    "\n",
    "            df[index] =  df[index].astype(int)\n",
    "            df.set_index(index, inplace=True)\n",
    "            df.sort_index(inplace=True)\n",
    "            \n",
    "            new_columns[name] = df\n",
    "            df.to_csv(output)\n",
    "            \n",
    "            message = 'Loaded sheet {sheet} into \"{name}\" ({nb} lines)'\n",
    "            parameters = dict(sheet=sheet, name=name, nb=len(catalog[name]))\n",
    "\n",
    "            print(message.format(**parameters))\n",
    "            print('Columns =', list(catalog[name].columns))\n",
    "            print('Saved to', output)\n",
    "            \n",
    "    return new_columns"
   ]
  },
  {
   "cell_type": "code",
   "execution_count": 13,
   "metadata": {
    "collapsed": false
   },
   "outputs": [
    {
     "name": "stdout",
     "output_type": "stream",
     "text": [
      "Loaded sheet CAPITULO into \"capitulo\" (9 lines)\n",
      "Columns = ['CAPITULO', 'DESCRIPCION']\n",
      "Saved to objeto_del_gasto.catalog/capitulo.csv\n",
      "Loaded sheet CONCEPTO into \"concepto\" (88 lines)\n",
      "Columns = ['CONCEPTO', 'DESCRIPCION']\n",
      "Saved to objeto_del_gasto.catalog/concepto.csv\n",
      "Loaded sheet PARTIDA GENERICA into \"partida_generica\" (355 lines)\n",
      "Columns = ['PARTIDA_GENERICA', 'DESCRIPCION']\n",
      "Saved to objeto_del_gasto.catalog/partida_generica.csv\n",
      "Loaded sheet PARTIDA ESPECÍFICA into \"partida_especifica\" (668 lines)\n",
      "Columns = ['PARTIDA_ESPECIFICA', 'DESCRIPCION']\n",
      "Saved to objeto_del_gasto.catalog/partida_especifica.csv\n"
     ]
    }
   ],
   "source": [
    "catalog = generate_catalog('objeto_del_gasto.catalog.xlsx')"
   ]
  },
  {
   "cell_type": "code",
   "execution_count": 94,
   "metadata": {
    "collapsed": false
   },
   "outputs": [
    {
     "data": {
      "text/plain": [
       "DESCRIPCION    Servicios personales\n",
       "Name: 1000, dtype: object"
      ]
     },
     "execution_count": 94,
     "metadata": {},
     "output_type": "execute_result"
    }
   ],
   "source": [
    "catalog['capitulo'].loc[1000]"
   ]
  },
  {
   "cell_type": "code",
   "execution_count": 115,
   "metadata": {
    "collapsed": false
   },
   "outputs": [
    {
     "data": {
      "text/plain": [
       "DESCRIPCION    Materiales y útiles de oficina\n",
       "Name: 21101, dtype: object"
      ]
     },
     "execution_count": 115,
     "metadata": {},
     "output_type": "execute_result"
    }
   ],
   "source": [
    "catalog['partida_especifica'].loc[21101]"
   ]
  },
  {
   "cell_type": "markdown",
   "metadata": {},
   "source": [
    "## Read pre-processed catalog files"
   ]
  },
  {
   "cell_type": "code",
   "execution_count": 111,
   "metadata": {
    "collapsed": false
   },
   "outputs": [
    {
     "name": "stdout",
     "output_type": "stream",
     "text": [
      "Loading partida_generica\n",
      "<class 'pandas.core.frame.DataFrame'>\n",
      "Int64Index: 351 entries, 111 to 991\n",
      "Data columns (total 1 columns):\n",
      "DESCRIPCION    351 non-null object\n",
      "dtypes: object(1)\n",
      "memory usage: 5.5+ KB\n",
      "None \n",
      "\n",
      "Loading capitulo\n",
      "<class 'pandas.core.frame.DataFrame'>\n",
      "Int64Index: 9 entries, 1000 to 9000\n",
      "Data columns (total 1 columns):\n",
      "DESCRIPCION    9 non-null object\n",
      "dtypes: object(1)\n",
      "memory usage: 144.0+ bytes\n",
      "None \n",
      "\n",
      "Loading concepto\n",
      "<class 'pandas.core.frame.DataFrame'>\n",
      "Int64Index: 88 entries, 1100 to 9900\n",
      "Data columns (total 1 columns):\n",
      "DESCRIPCION    88 non-null object\n",
      "dtypes: object(1)\n",
      "memory usage: 1.4+ KB\n",
      "None \n",
      "\n",
      "Loading partida_especifica\n",
      "<class 'pandas.core.frame.DataFrame'>\n",
      "Int64Index: 460 entries, 11101 to 99101\n",
      "Data columns (total 1 columns):\n",
      "DESCRIPCION    460 non-null object\n",
      "dtypes: object(1)\n",
      "memory usage: 7.2+ KB\n",
      "None \n",
      "\n"
     ]
    }
   ],
   "source": [
    "from pandas import read_csv\n",
    "from os import listdir\n",
    "from os.path import join\n",
    "\n",
    "def load_catalogs(folder):\n",
    "    \n",
    "    catalogs = {}\n",
    "    files = listdir(folder)\n",
    "    \n",
    "    for file in files:\n",
    "        name = file.split('.')[0]\n",
    "        print('Loading', name)\n",
    "        filepath = join(folder, file)\n",
    "        \n",
    "        catalogs[name] = read_csv(filepath)\n",
    "        index_column = catalogs[name].columns[0]\n",
    "        catalogs[name].set_index(index_column, inplace=True)\n",
    "    \n",
    "        print(catalogs[name].info(), '\\n')\n",
    "    \n",
    "    return catalogs\n",
    "\n",
    "catalogs = load_catalogs('objeto_del_gasto.catalog')"
   ]
  },
  {
   "cell_type": "code",
   "execution_count": 116,
   "metadata": {
    "collapsed": false
   },
   "outputs": [
    {
     "data": {
      "text/plain": [
       "DESCRIPCION    Materiales y suministros\n",
       "Name: 2000, dtype: object"
      ]
     },
     "execution_count": 116,
     "metadata": {},
     "output_type": "execute_result"
    }
   ],
   "source": [
    "catalogs['capitulo'].loc[2000]"
   ]
  },
  {
   "cell_type": "markdown",
   "metadata": {},
   "source": [
    "## Test splitting the data"
   ]
  },
  {
   "cell_type": "code",
   "execution_count": 199,
   "metadata": {
    "collapsed": false
   },
   "outputs": [
    {
     "name": "stdout",
     "output_type": "stream",
     "text": [
      "<class 'pandas.core.frame.DataFrame'>\n",
      "RangeIndex: 6 entries, 0 to 5\n",
      "Data columns (total 1 columns):\n",
      "CAPITULO    6 non-null object\n",
      "dtypes: object(1)\n",
      "memory usage: 128.0+ bytes\n",
      "None\n"
     ]
    },
    {
     "data": {
      "text/html": [
       "<div>\n",
       "<table border=\"1\" class=\"dataframe\">\n",
       "  <thead>\n",
       "    <tr style=\"text-align: right;\">\n",
       "      <th></th>\n",
       "      <th>CAPITULO</th>\n",
       "    </tr>\n",
       "  </thead>\n",
       "  <tbody>\n",
       "    <tr>\n",
       "      <th>0</th>\n",
       "      <td>7000.0</td>\n",
       "    </tr>\n",
       "    <tr>\n",
       "      <th>1</th>\n",
       "      <td>5000.0</td>\n",
       "    </tr>\n",
       "    <tr>\n",
       "      <th>2</th>\n",
       "      <td>4000.0</td>\n",
       "    </tr>\n",
       "    <tr>\n",
       "      <th>3</th>\n",
       "      <td>9000.0</td>\n",
       "    </tr>\n",
       "    <tr>\n",
       "      <th>4</th>\n",
       "      <td>2000.0</td>\n",
       "    </tr>\n",
       "    <tr>\n",
       "      <th>5</th>\n",
       "      <td>nan</td>\n",
       "    </tr>\n",
       "  </tbody>\n",
       "</table>\n",
       "</div>"
      ],
      "text/plain": [
       "  CAPITULO\n",
       "0   7000.0\n",
       "1   5000.0\n",
       "2   4000.0\n",
       "3   9000.0\n",
       "4   2000.0\n",
       "5      nan"
      ]
     },
     "execution_count": 199,
     "metadata": {},
     "output_type": "execute_result"
    }
   ],
   "source": [
    "from pandas import DataFrame\n",
    "from numpy import nan, int32\n",
    "\n",
    "ids = catalogs['capitulo'].sample(n=6).reset_index()\n",
    "del ids['DESCRIPCION']\n",
    "ids.loc[5] = nan\n",
    "ids['CAPITULO'] = ids['CAPITULO'].astype(str, inplace=True)\n",
    "print(ids.info())\n",
    "ids"
   ]
  },
  {
   "cell_type": "code",
   "execution_count": 198,
   "metadata": {
    "collapsed": false
   },
   "outputs": [
    {
     "data": {
      "text/plain": [
       "'nan'"
      ]
     },
     "execution_count": 198,
     "metadata": {},
     "output_type": "execute_result"
    }
   ],
   "source": [
    "str(nan)"
   ]
  },
  {
   "cell_type": "code",
   "execution_count": 167,
   "metadata": {
    "collapsed": false
   },
   "outputs": [
    {
     "data": {
      "text/html": [
       "<div>\n",
       "<table border=\"1\" class=\"dataframe\">\n",
       "  <thead>\n",
       "    <tr style=\"text-align: right;\">\n",
       "      <th></th>\n",
       "    </tr>\n",
       "  </thead>\n",
       "  <tbody>\n",
       "  </tbody>\n",
       "</table>\n",
       "</div>"
      ],
      "text/plain": [
       "Empty DataFrame\n",
       "Columns: []\n",
       "Index: []"
      ]
     },
     "execution_count": 167,
     "metadata": {},
     "output_type": "execute_result"
    }
   ],
   "source": [
    "df = DataFrame()\n",
    "df"
   ]
  },
  {
   "cell_type": "code",
   "execution_count": 170,
   "metadata": {
    "collapsed": false
   },
   "outputs": [
    {
     "data": {
      "text/plain": [
       "0    9000\n",
       "1    6000\n",
       "2    8000\n",
       "3    4000\n",
       "4    3000\n",
       "Name: CAPITULO, dtype: int64"
      ]
     },
     "execution_count": 170,
     "metadata": {},
     "output_type": "execute_result"
    }
   ],
   "source": [
    "ids['CAPITULO']"
   ]
  },
  {
   "cell_type": "code",
   "execution_count": 178,
   "metadata": {
    "collapsed": false
   },
   "outputs": [
    {
     "data": {
      "text/html": [
       "<div>\n",
       "<table border=\"1\" class=\"dataframe\">\n",
       "  <thead>\n",
       "    <tr style=\"text-align: right;\">\n",
       "      <th></th>\n",
       "      <th>DESCRIPCION</th>\n",
       "    </tr>\n",
       "  </thead>\n",
       "  <tbody>\n",
       "    <tr>\n",
       "      <th>0</th>\n",
       "      <td>Deuda publica</td>\n",
       "    </tr>\n",
       "    <tr>\n",
       "      <th>1</th>\n",
       "      <td>Inversion publica</td>\n",
       "    </tr>\n",
       "    <tr>\n",
       "      <th>2</th>\n",
       "      <td>Participaciones y aportaciones</td>\n",
       "    </tr>\n",
       "    <tr>\n",
       "      <th>3</th>\n",
       "      <td>Transferencias, asignaciones, subsidios y otra...</td>\n",
       "    </tr>\n",
       "    <tr>\n",
       "      <th>4</th>\n",
       "      <td>Servicios generales</td>\n",
       "    </tr>\n",
       "  </tbody>\n",
       "</table>\n",
       "</div>"
      ],
      "text/plain": [
       "                                         DESCRIPCION\n",
       "0                                      Deuda publica\n",
       "1                                  Inversion publica\n",
       "2                     Participaciones y aportaciones\n",
       "3  Transferencias, asignaciones, subsidios y otra...\n",
       "4                                Servicios generales"
      ]
     },
     "execution_count": 178,
     "metadata": {},
     "output_type": "execute_result"
    }
   ],
   "source": [
    "description = catalog['capitulo'].loc[ids['CAPITULO']]['DESCRIPCION'].reset_index()\n",
    "del description['CAPITULO']\n",
    "description"
   ]
  },
  {
   "cell_type": "code",
   "execution_count": 179,
   "metadata": {
    "collapsed": false
   },
   "outputs": [
    {
     "data": {
      "text/html": [
       "<div>\n",
       "<table border=\"1\" class=\"dataframe\">\n",
       "  <thead>\n",
       "    <tr style=\"text-align: right;\">\n",
       "      <th></th>\n",
       "      <th>DESCRIPCION</th>\n",
       "      <th>CAPITULO</th>\n",
       "    </tr>\n",
       "  </thead>\n",
       "  <tbody>\n",
       "    <tr>\n",
       "      <th>0</th>\n",
       "      <td>Deuda publica</td>\n",
       "      <td>9000</td>\n",
       "    </tr>\n",
       "    <tr>\n",
       "      <th>1</th>\n",
       "      <td>Inversion publica</td>\n",
       "      <td>6000</td>\n",
       "    </tr>\n",
       "    <tr>\n",
       "      <th>2</th>\n",
       "      <td>Participaciones y aportaciones</td>\n",
       "      <td>8000</td>\n",
       "    </tr>\n",
       "    <tr>\n",
       "      <th>3</th>\n",
       "      <td>Transferencias, asignaciones, subsidios y otra...</td>\n",
       "      <td>4000</td>\n",
       "    </tr>\n",
       "    <tr>\n",
       "      <th>4</th>\n",
       "      <td>Servicios generales</td>\n",
       "      <td>3000</td>\n",
       "    </tr>\n",
       "  </tbody>\n",
       "</table>\n",
       "</div>"
      ],
      "text/plain": [
       "                                         DESCRIPCION  CAPITULO\n",
       "0                                      Deuda publica      9000\n",
       "1                                  Inversion publica      6000\n",
       "2                     Participaciones y aportaciones      8000\n",
       "3  Transferencias, asignaciones, subsidios y otra...      4000\n",
       "4                                Servicios generales      3000"
      ]
     },
     "execution_count": 179,
     "metadata": {},
     "output_type": "execute_result"
    }
   ],
   "source": [
    "from pandas import concat\n",
    "\n",
    "concat([description, ids], axis=1)"
   ]
  },
  {
   "cell_type": "code",
   "execution_count": 182,
   "metadata": {
    "collapsed": false
   },
   "outputs": [
    {
     "data": {
      "text/html": [
       "<div>\n",
       "<table border=\"1\" class=\"dataframe\">\n",
       "  <thead>\n",
       "    <tr style=\"text-align: right;\">\n",
       "      <th></th>\n",
       "      <th>CAPITULO</th>\n",
       "      <th>DESCRIPCION</th>\n",
       "    </tr>\n",
       "  </thead>\n",
       "  <tbody>\n",
       "    <tr>\n",
       "      <th>0</th>\n",
       "      <td>9000</td>\n",
       "      <td>Deuda publica</td>\n",
       "    </tr>\n",
       "    <tr>\n",
       "      <th>1</th>\n",
       "      <td>6000</td>\n",
       "      <td>Inversion publica</td>\n",
       "    </tr>\n",
       "    <tr>\n",
       "      <th>2</th>\n",
       "      <td>8000</td>\n",
       "      <td>Participaciones y aportaciones</td>\n",
       "    </tr>\n",
       "    <tr>\n",
       "      <th>3</th>\n",
       "      <td>4000</td>\n",
       "      <td>Transferencias, asignaciones, subsidios y otra...</td>\n",
       "    </tr>\n",
       "    <tr>\n",
       "      <th>4</th>\n",
       "      <td>3000</td>\n",
       "      <td>Servicios generales</td>\n",
       "    </tr>\n",
       "  </tbody>\n",
       "</table>\n",
       "</div>"
      ],
      "text/plain": [
       "   CAPITULO                                        DESCRIPCION\n",
       "0      9000                                      Deuda publica\n",
       "1      6000                                  Inversion publica\n",
       "2      8000                     Participaciones y aportaciones\n",
       "3      4000  Transferencias, asignaciones, subsidios y otra...\n",
       "4      3000                                Servicios generales"
      ]
     },
     "execution_count": 182,
     "metadata": {},
     "output_type": "execute_result"
    }
   ],
   "source": [
    "description = catalog['capitulo'].loc[ids['CAPITULO']].reset_index()\n",
    "description"
   ]
  },
  {
   "cell_type": "code",
   "execution_count": 5,
   "metadata": {
    "collapsed": false
   },
   "outputs": [
    {
     "name": "stderr",
     "output_type": "stream",
     "text": [
      "/usr/local/lib/python3.5/dist-packages/IPython/core/interactiveshell.py:2705: DtypeWarning: Columns (4,11,16,34) have mixed types. Specify dtype option on import or set low_memory=False.\n",
      "  interactivity=interactivity, compiler=compiler, result=result)\n"
     ]
    },
    {
     "data": {
      "text/html": [
       "<div>\n",
       "<table border=\"1\" class=\"dataframe\">\n",
       "  <thead>\n",
       "    <tr style=\"text-align: right;\">\n",
       "      <th></th>\n",
       "      <th>Actividad Institucional</th>\n",
       "      <th>Adefas</th>\n",
       "      <th>Aprobado</th>\n",
       "      <th>Ciclo</th>\n",
       "      <th>Clave de cartera</th>\n",
       "      <th>Descripción de Fuente de Financiamiento</th>\n",
       "      <th>Descripción de Función</th>\n",
       "      <th>Descripción de Grupo Funcional</th>\n",
       "      <th>Descripción de Objeto del Gasto</th>\n",
       "      <th>Descripción de Programa Presupuestario</th>\n",
       "      <th>...</th>\n",
       "      <th>Modalidad del Programa presupuestario</th>\n",
       "      <th>Modificado</th>\n",
       "      <th>Objeto del Gasto</th>\n",
       "      <th>Pagado</th>\n",
       "      <th>Programa Presupuestario</th>\n",
       "      <th>Ramo</th>\n",
       "      <th>Reasignacion</th>\n",
       "      <th>Subfunción</th>\n",
       "      <th>Tipo de Gasto</th>\n",
       "      <th>Unidad Responsable</th>\n",
       "    </tr>\n",
       "  </thead>\n",
       "  <tbody>\n",
       "    <tr>\n",
       "      <th>0</th>\n",
       "      <td>4</td>\n",
       "      <td>NaN</td>\n",
       "      <td>9.930500e+07</td>\n",
       "      <td>2016</td>\n",
       "      <td>0</td>\n",
       "      <td>Recursos fiscales</td>\n",
       "      <td>Legislación</td>\n",
       "      <td>Gobierno</td>\n",
       "      <td>Obra pública en bienes propios</td>\n",
       "      <td>Mantenimiento de Infraestructura</td>\n",
       "      <td>...</td>\n",
       "      <td>K</td>\n",
       "      <td>NaN</td>\n",
       "      <td>6200.0</td>\n",
       "      <td>NaN</td>\n",
       "      <td>27.0</td>\n",
       "      <td>1</td>\n",
       "      <td>0.0</td>\n",
       "      <td>1</td>\n",
       "      <td>3.0</td>\n",
       "      <td>100</td>\n",
       "    </tr>\n",
       "    <tr>\n",
       "      <th>1</th>\n",
       "      <td>4</td>\n",
       "      <td>NaN</td>\n",
       "      <td>1.003938e+09</td>\n",
       "      <td>2016</td>\n",
       "      <td>0</td>\n",
       "      <td>Recursos fiscales</td>\n",
       "      <td>Legislación</td>\n",
       "      <td>Gobierno</td>\n",
       "      <td>Remuneraciones al personal de carácter permanente</td>\n",
       "      <td>Actividades derivadas del trabajo legislativo</td>\n",
       "      <td>...</td>\n",
       "      <td>R</td>\n",
       "      <td>NaN</td>\n",
       "      <td>1100.0</td>\n",
       "      <td>NaN</td>\n",
       "      <td>1.0</td>\n",
       "      <td>1</td>\n",
       "      <td>0.0</td>\n",
       "      <td>1</td>\n",
       "      <td>1.0</td>\n",
       "      <td>100</td>\n",
       "    </tr>\n",
       "    <tr>\n",
       "      <th>2</th>\n",
       "      <td>4</td>\n",
       "      <td>NaN</td>\n",
       "      <td>9.651971e+08</td>\n",
       "      <td>2016</td>\n",
       "      <td>0</td>\n",
       "      <td>Recursos fiscales</td>\n",
       "      <td>Legislación</td>\n",
       "      <td>Gobierno</td>\n",
       "      <td>Remuneraciones al personal de carácter transit...</td>\n",
       "      <td>Actividades derivadas del trabajo legislativo</td>\n",
       "      <td>...</td>\n",
       "      <td>R</td>\n",
       "      <td>NaN</td>\n",
       "      <td>1200.0</td>\n",
       "      <td>NaN</td>\n",
       "      <td>1.0</td>\n",
       "      <td>1</td>\n",
       "      <td>0.0</td>\n",
       "      <td>1</td>\n",
       "      <td>1.0</td>\n",
       "      <td>100</td>\n",
       "    </tr>\n",
       "    <tr>\n",
       "      <th>3</th>\n",
       "      <td>4</td>\n",
       "      <td>NaN</td>\n",
       "      <td>1.024815e+09</td>\n",
       "      <td>2016</td>\n",
       "      <td>0</td>\n",
       "      <td>Recursos fiscales</td>\n",
       "      <td>Legislación</td>\n",
       "      <td>Gobierno</td>\n",
       "      <td>Remuneraciones adicionales y especiales</td>\n",
       "      <td>Actividades derivadas del trabajo legislativo</td>\n",
       "      <td>...</td>\n",
       "      <td>R</td>\n",
       "      <td>NaN</td>\n",
       "      <td>1300.0</td>\n",
       "      <td>NaN</td>\n",
       "      <td>1.0</td>\n",
       "      <td>1</td>\n",
       "      <td>0.0</td>\n",
       "      <td>1</td>\n",
       "      <td>1.0</td>\n",
       "      <td>100</td>\n",
       "    </tr>\n",
       "    <tr>\n",
       "      <th>4</th>\n",
       "      <td>4</td>\n",
       "      <td>NaN</td>\n",
       "      <td>3.814606e+08</td>\n",
       "      <td>2016</td>\n",
       "      <td>0</td>\n",
       "      <td>Recursos fiscales</td>\n",
       "      <td>Legislación</td>\n",
       "      <td>Gobierno</td>\n",
       "      <td>Seguridad social</td>\n",
       "      <td>Actividades derivadas del trabajo legislativo</td>\n",
       "      <td>...</td>\n",
       "      <td>R</td>\n",
       "      <td>NaN</td>\n",
       "      <td>1400.0</td>\n",
       "      <td>NaN</td>\n",
       "      <td>1.0</td>\n",
       "      <td>1</td>\n",
       "      <td>0.0</td>\n",
       "      <td>1</td>\n",
       "      <td>1.0</td>\n",
       "      <td>100</td>\n",
       "    </tr>\n",
       "  </tbody>\n",
       "</table>\n",
       "<p>5 rows × 35 columns</p>\n",
       "</div>"
      ],
      "text/plain": [
       "   Actividad Institucional  Adefas      Aprobado  Ciclo Clave de cartera  \\\n",
       "0                        4     NaN  9.930500e+07   2016                0   \n",
       "1                        4     NaN  1.003938e+09   2016                0   \n",
       "2                        4     NaN  9.651971e+08   2016                0   \n",
       "3                        4     NaN  1.024815e+09   2016                0   \n",
       "4                        4     NaN  3.814606e+08   2016                0   \n",
       "\n",
       "  Descripción de Fuente de Financiamiento Descripción de Función  \\\n",
       "0                       Recursos fiscales            Legislación   \n",
       "1                       Recursos fiscales            Legislación   \n",
       "2                       Recursos fiscales            Legislación   \n",
       "3                       Recursos fiscales            Legislación   \n",
       "4                       Recursos fiscales            Legislación   \n",
       "\n",
       "  Descripción de Grupo Funcional  \\\n",
       "0                       Gobierno   \n",
       "1                       Gobierno   \n",
       "2                       Gobierno   \n",
       "3                       Gobierno   \n",
       "4                       Gobierno   \n",
       "\n",
       "                     Descripción de Objeto del Gasto  \\\n",
       "0                     Obra pública en bienes propios   \n",
       "1  Remuneraciones al personal de carácter permanente   \n",
       "2  Remuneraciones al personal de carácter transit...   \n",
       "3            Remuneraciones adicionales y especiales   \n",
       "4                                   Seguridad social   \n",
       "\n",
       "          Descripción de Programa Presupuestario         ...          \\\n",
       "0               Mantenimiento de Infraestructura         ...           \n",
       "1  Actividades derivadas del trabajo legislativo         ...           \n",
       "2  Actividades derivadas del trabajo legislativo         ...           \n",
       "3  Actividades derivadas del trabajo legislativo         ...           \n",
       "4  Actividades derivadas del trabajo legislativo         ...           \n",
       "\n",
       "  Modalidad del Programa presupuestario Modificado Objeto del Gasto Pagado  \\\n",
       "0                                     K        NaN           6200.0    NaN   \n",
       "1                                     R        NaN           1100.0    NaN   \n",
       "2                                     R        NaN           1200.0    NaN   \n",
       "3                                     R        NaN           1300.0    NaN   \n",
       "4                                     R        NaN           1400.0    NaN   \n",
       "\n",
       "  Programa Presupuestario Ramo Reasignacion Subfunción  Tipo de Gasto  \\\n",
       "0                    27.0    1          0.0          1            3.0   \n",
       "1                     1.0    1          0.0          1            1.0   \n",
       "2                     1.0    1          0.0          1            1.0   \n",
       "3                     1.0    1          0.0          1            1.0   \n",
       "4                     1.0    1          0.0          1            1.0   \n",
       "\n",
       "   Unidad Responsable  \n",
       "0                 100  \n",
       "1                 100  \n",
       "2                 100  \n",
       "3                 100  \n",
       "4                 100  \n",
       "\n",
       "[5 rows x 35 columns]"
      ]
     },
     "execution_count": 5,
     "metadata": {},
     "output_type": "execute_result"
    }
   ],
   "source": [
    "from pandas import read_csv\n",
    "\n",
    "merged = read_csv('pipeline.out/iteration-before-holiday/mexican_federal_budget.merged.csv')\n",
    "merged.head(n=5)"
   ]
  },
  {
   "cell_type": "code",
   "execution_count": 6,
   "metadata": {
    "collapsed": false
   },
   "outputs": [
    {
     "data": {
      "text/html": [
       "<div>\n",
       "<table border=\"1\" class=\"dataframe\">\n",
       "  <thead>\n",
       "    <tr style=\"text-align: right;\">\n",
       "      <th></th>\n",
       "      <th>Objeto del Gasto</th>\n",
       "    </tr>\n",
       "  </thead>\n",
       "  <tbody>\n",
       "    <tr>\n",
       "      <th>0</th>\n",
       "      <td>6200.0</td>\n",
       "    </tr>\n",
       "    <tr>\n",
       "      <th>1</th>\n",
       "      <td>1100.0</td>\n",
       "    </tr>\n",
       "    <tr>\n",
       "      <th>2</th>\n",
       "      <td>1200.0</td>\n",
       "    </tr>\n",
       "    <tr>\n",
       "      <th>3</th>\n",
       "      <td>1300.0</td>\n",
       "    </tr>\n",
       "    <tr>\n",
       "      <th>4</th>\n",
       "      <td>1400.0</td>\n",
       "    </tr>\n",
       "  </tbody>\n",
       "</table>\n",
       "</div>"
      ],
      "text/plain": [
       "   Objeto del Gasto\n",
       "0            6200.0\n",
       "1            1100.0\n",
       "2            1200.0\n",
       "3            1300.0\n",
       "4            1400.0"
      ]
     },
     "execution_count": 6,
     "metadata": {},
     "output_type": "execute_result"
    }
   ],
   "source": [
    "objeto_raw = merged[['Objeto del Gasto',]]\n",
    "objeto_raw.head(n=5)"
   ]
  },
  {
   "cell_type": "code",
   "execution_count": 7,
   "metadata": {
    "collapsed": false
   },
   "outputs": [
    {
     "data": {
      "text/plain": [
       "1325512"
      ]
     },
     "execution_count": 7,
     "metadata": {},
     "output_type": "execute_result"
    }
   ],
   "source": [
    "len(objeto_raw)"
   ]
  },
  {
   "cell_type": "code",
   "execution_count": 8,
   "metadata": {
    "collapsed": false
   },
   "outputs": [
    {
     "data": {
      "text/plain": [
       "1325511"
      ]
     },
     "execution_count": 8,
     "metadata": {},
     "output_type": "execute_result"
    }
   ],
   "source": [
    "objeto = objeto_raw.dropna()\n",
    "len(objeto.dropna())"
   ]
  },
  {
   "cell_type": "code",
   "execution_count": 9,
   "metadata": {
    "collapsed": false
   },
   "outputs": [
    {
     "data": {
      "text/html": [
       "<div>\n",
       "<table border=\"1\" class=\"dataframe\">\n",
       "  <thead>\n",
       "    <tr style=\"text-align: right;\">\n",
       "      <th></th>\n",
       "      <th>Objeto del Gasto</th>\n",
       "    </tr>\n",
       "  </thead>\n",
       "  <tbody>\n",
       "    <tr>\n",
       "      <th>0</th>\n",
       "      <td>6200.0</td>\n",
       "    </tr>\n",
       "    <tr>\n",
       "      <th>1</th>\n",
       "      <td>1100.0</td>\n",
       "    </tr>\n",
       "    <tr>\n",
       "      <th>2</th>\n",
       "      <td>1200.0</td>\n",
       "    </tr>\n",
       "    <tr>\n",
       "      <th>3</th>\n",
       "      <td>1300.0</td>\n",
       "    </tr>\n",
       "    <tr>\n",
       "      <th>4</th>\n",
       "      <td>1400.0</td>\n",
       "    </tr>\n",
       "  </tbody>\n",
       "</table>\n",
       "</div>"
      ],
      "text/plain": [
       "   Objeto del Gasto\n",
       "0            6200.0\n",
       "1            1100.0\n",
       "2            1200.0\n",
       "3            1300.0\n",
       "4            1400.0"
      ]
     },
     "execution_count": 9,
     "metadata": {},
     "output_type": "execute_result"
    }
   ],
   "source": [
    "objeto.head(n=5)"
   ]
  },
  {
   "cell_type": "code",
   "execution_count": 10,
   "metadata": {
    "collapsed": false
   },
   "outputs": [
    {
     "name": "stderr",
     "output_type": "stream",
     "text": [
      "/usr/local/lib/python3.5/dist-packages/ipykernel/__main__.py:1: SettingWithCopyWarning: \n",
      "A value is trying to be set on a copy of a slice from a DataFrame.\n",
      "Try using .loc[row_indexer,col_indexer] = value instead\n",
      "\n",
      "See the caveats in the documentation: http://pandas.pydata.org/pandas-docs/stable/indexing.html#indexing-view-versus-copy\n",
      "  if __name__ == '__main__':\n"
     ]
    }
   ],
   "source": [
    "objeto['Objeto del Gasto'] = objeto['Objeto del Gasto'].astype(int)"
   ]
  },
  {
   "cell_type": "markdown",
   "metadata": {},
   "source": [
    "## Split the data line by line\n",
    "\n",
    "Missing values are a pain in the ass when it comes to Integers in Pandas. I see only one way out, do use the `apply` method."
   ]
  },
  {
   "cell_type": "code",
   "execution_count": 11,
   "metadata": {
    "collapsed": false
   },
   "outputs": [
    {
     "data": {
      "text/html": [
       "<div>\n",
       "<table border=\"1\" class=\"dataframe\">\n",
       "  <thead>\n",
       "    <tr style=\"text-align: right;\">\n",
       "      <th></th>\n",
       "      <th>Objeto del Gasto</th>\n",
       "    </tr>\n",
       "  </thead>\n",
       "  <tbody>\n",
       "    <tr>\n",
       "      <th>count</th>\n",
       "      <td>1.325511e+06</td>\n",
       "    </tr>\n",
       "    <tr>\n",
       "      <th>mean</th>\n",
       "      <td>2.505599e+04</td>\n",
       "    </tr>\n",
       "    <tr>\n",
       "      <th>std</th>\n",
       "      <td>1.463928e+04</td>\n",
       "    </tr>\n",
       "    <tr>\n",
       "      <th>min</th>\n",
       "      <td>1.100000e+03</td>\n",
       "    </tr>\n",
       "    <tr>\n",
       "      <th>25%</th>\n",
       "      <td>1.430200e+04</td>\n",
       "    </tr>\n",
       "    <tr>\n",
       "      <th>50%</th>\n",
       "      <td>2.610200e+04</td>\n",
       "    </tr>\n",
       "    <tr>\n",
       "      <th>75%</th>\n",
       "      <td>3.510100e+04</td>\n",
       "    </tr>\n",
       "    <tr>\n",
       "      <th>max</th>\n",
       "      <td>9.910100e+04</td>\n",
       "    </tr>\n",
       "  </tbody>\n",
       "</table>\n",
       "</div>"
      ],
      "text/plain": [
       "       Objeto del Gasto\n",
       "count      1.325511e+06\n",
       "mean       2.505599e+04\n",
       "std        1.463928e+04\n",
       "min        1.100000e+03\n",
       "25%        1.430200e+04\n",
       "50%        2.610200e+04\n",
       "75%        3.510100e+04\n",
       "max        9.910100e+04"
      ]
     },
     "execution_count": 11,
     "metadata": {},
     "output_type": "execute_result"
    }
   ],
   "source": [
    "objeto.describe()"
   ]
  },
  {
   "cell_type": "code",
   "execution_count": 12,
   "metadata": {
    "collapsed": false
   },
   "outputs": [
    {
     "data": {
      "text/plain": [
       "Objeto del Gasto    99101\n",
       "dtype: int64"
      ]
     },
     "execution_count": 12,
     "metadata": {},
     "output_type": "execute_result"
    }
   ],
   "source": [
    "objeto.max()"
   ]
  },
  {
   "cell_type": "code",
   "execution_count": 13,
   "metadata": {
    "collapsed": false
   },
   "outputs": [
    {
     "data": {
      "text/plain": [
       "Objeto del Gasto    1100\n",
       "dtype: int64"
      ]
     },
     "execution_count": 13,
     "metadata": {},
     "output_type": "execute_result"
    }
   ],
   "source": [
    "objeto.min()"
   ]
  },
  {
   "cell_type": "code",
   "execution_count": 14,
   "metadata": {
    "collapsed": false
   },
   "outputs": [],
   "source": [
    "small = objeto[objeto['Objeto del Gasto'] <= 10000]"
   ]
  },
  {
   "cell_type": "code",
   "execution_count": 15,
   "metadata": {
    "collapsed": false
   },
   "outputs": [
    {
     "data": {
      "text/html": [
       "<div>\n",
       "<table border=\"1\" class=\"dataframe\">\n",
       "  <thead>\n",
       "    <tr style=\"text-align: right;\">\n",
       "      <th></th>\n",
       "      <th>Objeto del Gasto</th>\n",
       "    </tr>\n",
       "  </thead>\n",
       "  <tbody>\n",
       "    <tr>\n",
       "      <th>0</th>\n",
       "      <td>6200</td>\n",
       "    </tr>\n",
       "    <tr>\n",
       "      <th>1</th>\n",
       "      <td>1100</td>\n",
       "    </tr>\n",
       "    <tr>\n",
       "      <th>2</th>\n",
       "      <td>1200</td>\n",
       "    </tr>\n",
       "    <tr>\n",
       "      <th>3</th>\n",
       "      <td>1300</td>\n",
       "    </tr>\n",
       "    <tr>\n",
       "      <th>4</th>\n",
       "      <td>1400</td>\n",
       "    </tr>\n",
       "    <tr>\n",
       "      <th>5</th>\n",
       "      <td>1500</td>\n",
       "    </tr>\n",
       "    <tr>\n",
       "      <th>6</th>\n",
       "      <td>1700</td>\n",
       "    </tr>\n",
       "    <tr>\n",
       "      <th>7</th>\n",
       "      <td>2100</td>\n",
       "    </tr>\n",
       "    <tr>\n",
       "      <th>8</th>\n",
       "      <td>2200</td>\n",
       "    </tr>\n",
       "    <tr>\n",
       "      <th>9</th>\n",
       "      <td>2400</td>\n",
       "    </tr>\n",
       "    <tr>\n",
       "      <th>10</th>\n",
       "      <td>2500</td>\n",
       "    </tr>\n",
       "    <tr>\n",
       "      <th>11</th>\n",
       "      <td>2600</td>\n",
       "    </tr>\n",
       "    <tr>\n",
       "      <th>12</th>\n",
       "      <td>2700</td>\n",
       "    </tr>\n",
       "    <tr>\n",
       "      <th>13</th>\n",
       "      <td>2900</td>\n",
       "    </tr>\n",
       "    <tr>\n",
       "      <th>14</th>\n",
       "      <td>3100</td>\n",
       "    </tr>\n",
       "    <tr>\n",
       "      <th>15</th>\n",
       "      <td>3200</td>\n",
       "    </tr>\n",
       "    <tr>\n",
       "      <th>16</th>\n",
       "      <td>3300</td>\n",
       "    </tr>\n",
       "    <tr>\n",
       "      <th>17</th>\n",
       "      <td>3400</td>\n",
       "    </tr>\n",
       "    <tr>\n",
       "      <th>18</th>\n",
       "      <td>3500</td>\n",
       "    </tr>\n",
       "    <tr>\n",
       "      <th>19</th>\n",
       "      <td>3600</td>\n",
       "    </tr>\n",
       "    <tr>\n",
       "      <th>20</th>\n",
       "      <td>3700</td>\n",
       "    </tr>\n",
       "    <tr>\n",
       "      <th>21</th>\n",
       "      <td>3800</td>\n",
       "    </tr>\n",
       "    <tr>\n",
       "      <th>22</th>\n",
       "      <td>3900</td>\n",
       "    </tr>\n",
       "    <tr>\n",
       "      <th>23</th>\n",
       "      <td>4300</td>\n",
       "    </tr>\n",
       "    <tr>\n",
       "      <th>24</th>\n",
       "      <td>4900</td>\n",
       "    </tr>\n",
       "    <tr>\n",
       "      <th>25</th>\n",
       "      <td>5100</td>\n",
       "    </tr>\n",
       "    <tr>\n",
       "      <th>26</th>\n",
       "      <td>5200</td>\n",
       "    </tr>\n",
       "    <tr>\n",
       "      <th>27</th>\n",
       "      <td>5300</td>\n",
       "    </tr>\n",
       "    <tr>\n",
       "      <th>28</th>\n",
       "      <td>5400</td>\n",
       "    </tr>\n",
       "    <tr>\n",
       "      <th>29</th>\n",
       "      <td>5600</td>\n",
       "    </tr>\n",
       "  </tbody>\n",
       "</table>\n",
       "</div>"
      ],
      "text/plain": [
       "    Objeto del Gasto\n",
       "0               6200\n",
       "1               1100\n",
       "2               1200\n",
       "3               1300\n",
       "4               1400\n",
       "5               1500\n",
       "6               1700\n",
       "7               2100\n",
       "8               2200\n",
       "9               2400\n",
       "10              2500\n",
       "11              2600\n",
       "12              2700\n",
       "13              2900\n",
       "14              3100\n",
       "15              3200\n",
       "16              3300\n",
       "17              3400\n",
       "18              3500\n",
       "19              3600\n",
       "20              3700\n",
       "21              3800\n",
       "22              3900\n",
       "23              4300\n",
       "24              4900\n",
       "25              5100\n",
       "26              5200\n",
       "27              5300\n",
       "28              5400\n",
       "29              5600"
      ]
     },
     "execution_count": 15,
     "metadata": {},
     "output_type": "execute_result"
    }
   ],
   "source": [
    "small.head(n=30)"
   ]
  },
  {
   "cell_type": "code",
   "execution_count": 16,
   "metadata": {
    "collapsed": false
   },
   "outputs": [
    {
     "data": {
      "text/plain": [
       "204326"
      ]
     },
     "execution_count": 16,
     "metadata": {},
     "output_type": "execute_result"
    }
   ],
   "source": [
    "len(small)"
   ]
  },
  {
   "cell_type": "code",
   "execution_count": 17,
   "metadata": {
    "collapsed": false
   },
   "outputs": [
    {
     "data": {
      "text/html": [
       "<div>\n",
       "<table border=\"1\" class=\"dataframe\">\n",
       "  <thead>\n",
       "    <tr style=\"text-align: right;\">\n",
       "      <th></th>\n",
       "      <th>Actividad Institucional</th>\n",
       "      <th>Adefas</th>\n",
       "      <th>Aprobado</th>\n",
       "      <th>Clave de cartera</th>\n",
       "      <th>Descripción de Fuente de Financiamiento</th>\n",
       "      <th>Descripción de Función</th>\n",
       "      <th>Descripción de Grupo Funcional</th>\n",
       "      <th>Descripción de Objeto del Gasto</th>\n",
       "      <th>Descripción de Programa Presupuestario</th>\n",
       "      <th>Descripción de Ramo</th>\n",
       "      <th>...</th>\n",
       "      <th>Modalidad del Programa presupuestario</th>\n",
       "      <th>Modificado</th>\n",
       "      <th>Objeto del Gasto</th>\n",
       "      <th>Pagado</th>\n",
       "      <th>Programa Presupuestario</th>\n",
       "      <th>Ramo</th>\n",
       "      <th>Reasignacion</th>\n",
       "      <th>Subfunción</th>\n",
       "      <th>Tipo de Gasto</th>\n",
       "      <th>Unidad Responsable</th>\n",
       "    </tr>\n",
       "    <tr>\n",
       "      <th>Ciclo</th>\n",
       "      <th></th>\n",
       "      <th></th>\n",
       "      <th></th>\n",
       "      <th></th>\n",
       "      <th></th>\n",
       "      <th></th>\n",
       "      <th></th>\n",
       "      <th></th>\n",
       "      <th></th>\n",
       "      <th></th>\n",
       "      <th></th>\n",
       "      <th></th>\n",
       "      <th></th>\n",
       "      <th></th>\n",
       "      <th></th>\n",
       "      <th></th>\n",
       "      <th></th>\n",
       "      <th></th>\n",
       "      <th></th>\n",
       "      <th></th>\n",
       "      <th></th>\n",
       "    </tr>\n",
       "  </thead>\n",
       "  <tbody>\n",
       "    <tr>\n",
       "      <th>2010</th>\n",
       "      <td>129014</td>\n",
       "      <td>0</td>\n",
       "      <td>129014</td>\n",
       "      <td>0</td>\n",
       "      <td>129014</td>\n",
       "      <td>129014</td>\n",
       "      <td>129014</td>\n",
       "      <td>129014</td>\n",
       "      <td>129014</td>\n",
       "      <td>129014</td>\n",
       "      <td>...</td>\n",
       "      <td>129014</td>\n",
       "      <td>0</td>\n",
       "      <td>129014</td>\n",
       "      <td>0</td>\n",
       "      <td>129014</td>\n",
       "      <td>129014</td>\n",
       "      <td>0</td>\n",
       "      <td>129014</td>\n",
       "      <td>129014</td>\n",
       "      <td>129014</td>\n",
       "    </tr>\n",
       "    <tr>\n",
       "      <th>2016</th>\n",
       "      <td>75312</td>\n",
       "      <td>0</td>\n",
       "      <td>75312</td>\n",
       "      <td>75312</td>\n",
       "      <td>75312</td>\n",
       "      <td>75312</td>\n",
       "      <td>75312</td>\n",
       "      <td>75312</td>\n",
       "      <td>75312</td>\n",
       "      <td>75312</td>\n",
       "      <td>...</td>\n",
       "      <td>75312</td>\n",
       "      <td>0</td>\n",
       "      <td>75312</td>\n",
       "      <td>0</td>\n",
       "      <td>75312</td>\n",
       "      <td>75312</td>\n",
       "      <td>75312</td>\n",
       "      <td>75312</td>\n",
       "      <td>75312</td>\n",
       "      <td>75312</td>\n",
       "    </tr>\n",
       "  </tbody>\n",
       "</table>\n",
       "<p>2 rows × 34 columns</p>\n",
       "</div>"
      ],
      "text/plain": [
       "       Actividad Institucional  Adefas  Aprobado  Clave de cartera  \\\n",
       "Ciclo                                                                \n",
       "2010                    129014       0    129014                 0   \n",
       "2016                     75312       0     75312             75312   \n",
       "\n",
       "       Descripción de Fuente de Financiamiento  Descripción de Función  \\\n",
       "Ciclo                                                                    \n",
       "2010                                    129014                  129014   \n",
       "2016                                     75312                   75312   \n",
       "\n",
       "       Descripción de Grupo Funcional  Descripción de Objeto del Gasto  \\\n",
       "Ciclo                                                                    \n",
       "2010                           129014                           129014   \n",
       "2016                            75312                            75312   \n",
       "\n",
       "       Descripción de Programa Presupuestario  Descripción de Ramo  \\\n",
       "Ciclo                                                                \n",
       "2010                                   129014               129014   \n",
       "2016                                    75312                75312   \n",
       "\n",
       "              ...          Modalidad del Programa presupuestario  Modificado  \\\n",
       "Ciclo         ...                                                              \n",
       "2010          ...                                         129014           0   \n",
       "2016          ...                                          75312           0   \n",
       "\n",
       "       Objeto del Gasto  Pagado  Programa Presupuestario    Ramo  \\\n",
       "Ciclo                                                              \n",
       "2010             129014       0                   129014  129014   \n",
       "2016              75312       0                    75312   75312   \n",
       "\n",
       "       Reasignacion  Subfunción  Tipo de Gasto  Unidad Responsable  \n",
       "Ciclo                                                               \n",
       "2010              0      129014         129014              129014  \n",
       "2016          75312       75312          75312               75312  \n",
       "\n",
       "[2 rows x 34 columns]"
      ]
     },
     "execution_count": 17,
     "metadata": {},
     "output_type": "execute_result"
    }
   ],
   "source": [
    "merged[merged['Objeto del Gasto'] < 10000].groupby(['Ciclo']).count()"
   ]
  },
  {
   "cell_type": "code",
   "execution_count": 23,
   "metadata": {
    "collapsed": false
   },
   "outputs": [],
   "source": [
    "mx2016 = merged[merged['Ciclo'] == 2016]"
   ]
  },
  {
   "cell_type": "code",
   "execution_count": 24,
   "metadata": {
    "collapsed": false
   },
   "outputs": [
    {
     "data": {
      "text/plain": [
       "28185    4300.0\n",
       "737      3900.0\n",
       "10024    6200.0\n",
       "34794    2900.0\n",
       "22677    1300.0\n",
       "67682    1300.0\n",
       "69606    1200.0\n",
       "25465    3300.0\n",
       "34550    1300.0\n",
       "27396    3300.0\n",
       "Name: Objeto del Gasto, dtype: float64"
      ]
     },
     "execution_count": 24,
     "metadata": {},
     "output_type": "execute_result"
    }
   ],
   "source": [
    "mx2016['Objeto del Gasto'].sample(n=10)"
   ]
  },
  {
   "cell_type": "code",
   "execution_count": 25,
   "metadata": {
    "collapsed": false
   },
   "outputs": [],
   "source": [
    "mx2010 = merged[merged['Ciclo'] == 2010]"
   ]
  },
  {
   "cell_type": "code",
   "execution_count": 31,
   "metadata": {
    "collapsed": false
   },
   "outputs": [
    {
     "data": {
      "text/plain": [
       "2101.0    3012\n",
       "3817.0    2926\n",
       "3811.0    2533\n",
       "2106.0    2424\n",
       "3506.0    2319\n",
       "3407.0    2214\n",
       "2301.0    2212\n",
       "2204.0    2152\n",
       "1306.0    1860\n",
       "2602.0    1830\n",
       "1305.0    1806\n",
       "1103.0    1783\n",
       "1509.0    1783\n",
       "3504.0    1776\n",
       "3505.0    1758\n",
       "3106.0    1757\n",
       "3103.0    1731\n",
       "3501.0    1712\n",
       "3808.0    1708\n",
       "2404.0    1702\n",
       "3413.0    1652\n",
       "2701.0    1641\n",
       "2102.0    1632\n",
       "1511.0    1621\n",
       "3101.0    1552\n",
       "3814.0    1519\n",
       "3107.0    1487\n",
       "1413.0    1480\n",
       "2302.0    1446\n",
       "2401.0    1431\n",
       "          ... \n",
       "8222.0       1\n",
       "2600.0       1\n",
       "8223.0       1\n",
       "8224.0       1\n",
       "8225.0       1\n",
       "8226.0       1\n",
       "8208.0       1\n",
       "8207.0       1\n",
       "8206.0       1\n",
       "8205.0       1\n",
       "8120.0       1\n",
       "8121.0       1\n",
       "3300.0       1\n",
       "8122.0       1\n",
       "8123.0       1\n",
       "8124.0       1\n",
       "8125.0       1\n",
       "8126.0       1\n",
       "8127.0       1\n",
       "8128.0       1\n",
       "8129.0       1\n",
       "8130.0       1\n",
       "3200.0       1\n",
       "8131.0       1\n",
       "8132.0       1\n",
       "8201.0       1\n",
       "8202.0       1\n",
       "8203.0       1\n",
       "8204.0       1\n",
       "8211.0       1\n",
       "Name: Objeto del Gasto, dtype: int64"
      ]
     },
     "execution_count": 31,
     "metadata": {},
     "output_type": "execute_result"
    }
   ],
   "source": [
    "mx2010['Objeto del Gasto'].value_counts()"
   ]
  },
  {
   "cell_type": "code",
   "execution_count": null,
   "metadata": {
    "collapsed": true
   },
   "outputs": [],
   "source": []
  }
 ],
 "metadata": {
  "kernelspec": {
   "display_name": "Python 3",
   "language": "python",
   "name": "python3"
  },
  "language_info": {
   "codemirror_mode": {
    "name": "ipython",
    "version": 3
   },
   "file_extension": ".py",
   "mimetype": "text/x-python",
   "name": "python",
   "nbconvert_exporter": "python",
   "pygments_lexer": "ipython3",
   "version": "3.5.1+"
  }
 },
 "nbformat": 4,
 "nbformat_minor": 0
}
