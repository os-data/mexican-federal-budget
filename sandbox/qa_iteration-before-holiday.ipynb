{
 "cells": [
  {
   "cell_type": "code",
   "execution_count": 1,
   "metadata": {
    "collapsed": false
   },
   "outputs": [
    {
     "name": "stdout",
     "output_type": "stream",
     "text": [
      "total 50612\r\n",
      "drwxrwxr-x  9 loic loic    16384 Aug 22 17:57 \u001b[0m\u001b[01;34m.\u001b[0m/\r\n",
      "drwxrwxr-x 52 loic loic    12288 Aug 22 15:36 \u001b[01;34m..\u001b[0m/\r\n",
      "drwxrwxr-x  2 loic loic     4096 Aug 12 09:43 \u001b[01;34mbudgets\u001b[0m/\r\n",
      "-rw-rw-r--  1 loic loic 51605979 Aug 12 09:45 budgets.zip\r\n",
      "-rw-rw-r--  1 loic loic     1767 Aug 12 14:52 columns.default.yaml\r\n",
      "drwxrwxr-x  8 loic loic     4096 Aug 12 23:51 \u001b[01;34m.git\u001b[0m/\r\n",
      "-rw-rw-r--  1 loic loic       57 Aug 12 22:53 .gitignore\r\n",
      "drwxr-xr-x  2 loic loic     4096 Aug 22 17:57 \u001b[01;34m.ipynb_checkpoints\u001b[0m/\r\n",
      "drwxrwxr-x  2 loic loic     4096 Aug 12 23:01 \u001b[01;34mpipeline.in\u001b[0m/\r\n",
      "-rw-rw-r--  1 loic loic    93380 Aug 12 23:07 pipeline.ipynb\r\n",
      "drwxrwxr-x  6 loic loic     4096 Aug 12 23:03 \u001b[01;34mpipeline.out\u001b[0m/\r\n",
      "-rw-rw-r--  1 loic loic     1678 Aug 12 19:35 README.md\r\n",
      "drwxrwxr-x  2 loic loic     4096 Aug 22 15:34 \u001b[01;34msamples\u001b[0m/\r\n",
      "drwxrwxr-x  3 loic loic     4096 Aug 12 10:14 \u001b[01;34msandbox\u001b[0m/\r\n",
      "-rw-rw-r--  1 loic loic       72 Aug 22 17:57 Untitled.ipynb\r\n"
     ]
    }
   ],
   "source": [
    "ls -la"
   ]
  },
  {
   "cell_type": "code",
   "execution_count": 2,
   "metadata": {
    "collapsed": false
   },
   "outputs": [
    {
     "name": "stderr",
     "output_type": "stream",
     "text": [
      "/usr/local/lib/python3.5/dist-packages/IPython/core/interactiveshell.py:2705: DtypeWarning: Columns (4,11,16,34) have mixed types. Specify dtype option on import or set low_memory=False.\n",
      "  interactivity=interactivity, compiler=compiler, result=result)\n"
     ]
    },
    {
     "name": "stdout",
     "output_type": "stream",
     "text": [
      "<class 'pandas.core.frame.DataFrame'>\n",
      "RangeIndex: 1325512 entries, 0 to 1325511\n",
      "Data columns (total 35 columns):\n",
      "Actividad Institucional                                    1325512 non-null int64\n",
      "Adefas                                                     482560 non-null float64\n",
      "Aprobado                                                   1325510 non-null float64\n",
      "Ciclo                                                      1325512 non-null int64\n",
      "Clave de cartera                                           1057671 non-null object\n",
      "Descripción de Fuente de Financiamiento                    1325511 non-null object\n",
      "Descripción de Función                                     1325512 non-null object\n",
      "Descripción de Grupo Funcional                             1325512 non-null object\n",
      "Descripción de Objeto del Gasto                            1325483 non-null object\n",
      "Descripción de Programa Presupuestario                     1325511 non-null object\n",
      "Descripción de Ramo                                        1325512 non-null object\n",
      "Descripción de Reasignacion                                75312 non-null object\n",
      "Descripción de Subfunción                                  1325512 non-null object\n",
      "Descripción de Tipo de Gasto                               1325511 non-null object\n",
      "Descripción de Unidad Responsable                          1325512 non-null object\n",
      "Descripción de la Actividad Institucional                  1325511 non-null object\n",
      "Descripción de la entidad federativa                       1057499 non-null object\n",
      "Descripción de la modalidad del programa presupuestario    1325511 non-null object\n",
      "Devengado                                                  710217 non-null float64\n",
      "Ejercicio                                                  482560 non-null float64\n",
      "Ejercido                                                   767639 non-null float64\n",
      "Entidad Federativa                                         1057671 non-null float64\n",
      "Fuente de Financiamiento                                   1325511 non-null float64\n",
      "Función                                                    1325512 non-null int64\n",
      "Grupo Funcional                                            1325512 non-null int64\n",
      "Modalidad del Programa presupuestario                      1325511 non-null object\n",
      "Modificado                                                 482560 non-null float64\n",
      "Objeto del Gasto                                           1325511 non-null float64\n",
      "Pagado                                                     482560 non-null float64\n",
      "Programa Presupuestario                                    1325511 non-null float64\n",
      "Ramo                                                       1325512 non-null int64\n",
      "Reasignacion                                               75312 non-null float64\n",
      "Subfunción                                                 1325512 non-null int64\n",
      "Tipo de Gasto                                              1325511 non-null float64\n",
      "Unidad Responsable                                         1325512 non-null object\n",
      "dtypes: float64(13), int64(6), object(16)\n",
      "memory usage: 353.9+ MB\n"
     ]
    }
   ],
   "source": [
    "from pandas import read_csv\n",
    "\n",
    "mex = read_csv('pipeline.out/iteration-before-holiday/mexican_federal_budget.merged.csv')\n",
    "mex.info()"
   ]
  },
  {
   "cell_type": "code",
   "execution_count": 3,
   "metadata": {
    "collapsed": false
   },
   "outputs": [
    {
     "data": {
      "text/plain": [
       "Transporte por Carretera                                                 169993\n",
       "Organización de Procesos Electorales                                     122733\n",
       "Impartición de Justicia                                                   57424\n",
       "Otros Grupos Vulnerables                                                  48168\n",
       "Agropecuaria                                                              42777\n",
       "Asuntos Económicos y Comerciales en General                               42724\n",
       "Administración del Agua                                                   40415\n",
       "Función Pública                                                           39524\n",
       "Procuración de Justicia                                                   34281\n",
       "Servicios Estadísticos                                                    33955\n",
       "Otros Servicios Educativos y Actividades Inherentes                       27017\n",
       "Investigación Científica                                                  26183\n",
       "Otros Relacionados con Transporte                                         25592\n",
       "Otros de Protección Ambiental                                             24809\n",
       "Otros                                                                     24783\n",
       "Rectoría del Sistema de Salud                                             23739\n",
       "Prestación de Servicios de Salud a la Persona                             22430\n",
       "Hidroagrícola                                                             21748\n",
       "Comunicaciones                                                            21121\n",
       "Indígenas                                                                 20838\n",
       "Carreteras                                                                20189\n",
       "Marina                                                                    18841\n",
       "Asuntos Laborales Generales                                               17621\n",
       "Defensa                                                                   17313\n",
       "Asuntos Hacendarios                                                       16966\n",
       "Cultura                                                                   15314\n",
       "Silvicultura                                                              14520\n",
       "Educación Superior                                                        14177\n",
       "Turismo                                                                   12964\n",
       "Educación Media Superior                                                  12756\n",
       "                                                                          ...  \n",
       "Prisiones                                                                   698\n",
       "Participaciones entre Diferentes Niveles y Ordenes de Gobierno              644\n",
       "Tesorería                                                                   637\n",
       "Deporte                                                                     625\n",
       "Preservación y Cuidado del Patrimonio Público                               569\n",
       "Combustibles Nucleares                                                      482\n",
       "Reducción de la Contaminación                                               462\n",
       "Apoyo Financiero a la Banca y Seguro Agropecuario                           455\n",
       "Capacitación Laboral                                                        263\n",
       "Participaciones a Entidades Federativas                                     256\n",
       "Asuntos Religiosos y Otras Manifestaciones Sociales                         255\n",
       "Otros Asuntos Sociales                                                      249\n",
       "Promoción del Empleo                                                        213\n",
       "Innovación                                                                  184\n",
       "Patrimonio Nacional                                                         173\n",
       "Fomento y Regulación del Desarrollo Científico y Tecnológico                109\n",
       "Fomento del Desarrollo Científico y Tecnológico                             107\n",
       "Banca de Desarrollo                                                          91\n",
       "Deuda Pública Externa                                                        91\n",
       "Deuda Pública Interna                                                        49\n",
       "Apoyos IPAB                                                                  28\n",
       "Apoyo Social para la Vivienda                                                21\n",
       "Apoyo a los programas de reestructura en unidades de inversión (UDIS)        20\n",
       "Fondos de Fomento                                                            14\n",
       "Aseguradoras                                                                 12\n",
       "Apoyar los Programas de Reestructura en Unidades de Inversión (UDIS)          8\n",
       "Adeudos de Ejercicios Fiscales Anteriores                                     7\n",
       "Juegos y Sorteos                                                              5\n",
       "Otras de Asistencia Social                                                    4\n",
       "Otros Asuntos Económicos                                                      3\n",
       "Name: Descripción de Subfunción, dtype: int64"
      ]
     },
     "execution_count": 3,
     "metadata": {},
     "output_type": "execute_result"
    }
   ],
   "source": [
    "mex['Descripción de Subfunción'].value_counts()"
   ]
  },
  {
   "cell_type": "code",
   "execution_count": 4,
   "metadata": {
    "collapsed": false
   },
   "outputs": [
    {
     "data": {
      "text/plain": [
       "1    510181\n",
       "2    253830\n",
       "6    210156\n",
       "3    113717\n",
       "4    100302\n",
       "5     50972\n",
       "8     42650\n",
       "7     36414\n",
       "9      7290\n",
       "Name: Subfunción, dtype: int64"
      ]
     },
     "execution_count": 4,
     "metadata": {},
     "output_type": "execute_result"
    }
   ],
   "source": [
    "mex['Subfunción'].value_counts()"
   ]
  },
  {
   "cell_type": "code",
   "execution_count": 10,
   "metadata": {
    "collapsed": false
   },
   "outputs": [
    {
     "data": {
      "text/plain": [
       "1    77\n",
       "3    10\n",
       "2     4\n",
       "Name: Subfunción, dtype: int64"
      ]
     },
     "execution_count": 10,
     "metadata": {},
     "output_type": "execute_result"
    }
   ],
   "source": [
    "mex['Subfunción'][mex['Descripción de Subfunción'] == 'Banca de Desarrollo'].value_counts()"
   ]
  },
  {
   "cell_type": "code",
   "execution_count": 11,
   "metadata": {
    "collapsed": false
   },
   "outputs": [
    {
     "data": {
      "text/plain": [
       "3    10607\n",
       "2     1661\n",
       "4        4\n",
       "Name: Subfunción, dtype: int64"
      ]
     },
     "execution_count": 11,
     "metadata": {},
     "output_type": "execute_result"
    }
   ],
   "source": [
    "mex['Subfunción'][mex['Descripción de Función'] == 'Asistencia Social'].value_counts()"
   ]
  },
  {
   "cell_type": "code",
   "execution_count": 15,
   "metadata": {
    "collapsed": false
   },
   "outputs": [
    {
     "data": {
      "text/plain": [
       "array([  9.,   1.,   5.,   6.,   7.,   8.,  16.,  17.,  19.,  20.,  21.,\n",
       "        22.,  25.,  30.,  31.,  32.,   2.,   3.,   4.,  10.,  11.,  12.,\n",
       "        13.,  14.,  15.,  18.,  23.,  24.,  26.,  27.,  28.,  29.,  34.,\n",
       "        33.,  nan,   0.])"
      ]
     },
     "execution_count": 15,
     "metadata": {},
     "output_type": "execute_result"
    }
   ],
   "source": [
    "mex['Entidad Federativa'].unique()"
   ]
  },
  {
   "cell_type": "code",
   "execution_count": 17,
   "metadata": {
    "collapsed": false
   },
   "outputs": [
    {
     "data": {
      "text/plain": [
       "347363    NaN\n",
       "347364    NaN\n",
       "347365    NaN\n",
       "347366    NaN\n",
       "347367    NaN\n",
       "347368    NaN\n",
       "347369    NaN\n",
       "347370    NaN\n",
       "347371    NaN\n",
       "347372    NaN\n",
       "347373    NaN\n",
       "347374    NaN\n",
       "347375    NaN\n",
       "347376    NaN\n",
       "347377    NaN\n",
       "347378    NaN\n",
       "347379    NaN\n",
       "347380    NaN\n",
       "347381    NaN\n",
       "347382    NaN\n",
       "347383    NaN\n",
       "347384    NaN\n",
       "347385    NaN\n",
       "347386    NaN\n",
       "347387    NaN\n",
       "347388    NaN\n",
       "347389    NaN\n",
       "347390    NaN\n",
       "347391    NaN\n",
       "347392    NaN\n",
       "         ... \n",
       "347505    NaN\n",
       "347506    NaN\n",
       "347507    NaN\n",
       "347508    NaN\n",
       "347509    NaN\n",
       "347510    NaN\n",
       "347511    NaN\n",
       "347512    NaN\n",
       "347513    NaN\n",
       "347514    NaN\n",
       "347515    NaN\n",
       "347516    NaN\n",
       "347517    NaN\n",
       "347518    NaN\n",
       "347519    NaN\n",
       "347520    NaN\n",
       "347521    NaN\n",
       "347522    NaN\n",
       "347523    NaN\n",
       "347524    NaN\n",
       "347525    NaN\n",
       "347526    NaN\n",
       "347527    NaN\n",
       "347528    NaN\n",
       "347529    NaN\n",
       "347530    NaN\n",
       "347531    NaN\n",
       "347532    NaN\n",
       "347533    NaN\n",
       "347534    NaN\n",
       "Name: Descripción de la entidad federativa, dtype: object"
      ]
     },
     "execution_count": 17,
     "metadata": {},
     "output_type": "execute_result"
    }
   ],
   "source": [
    "mex['Descripción de la entidad federativa'][mex['Entidad Federativa'] == 0]"
   ]
  },
  {
   "cell_type": "code",
   "execution_count": 2,
   "metadata": {
    "collapsed": false
   },
   "outputs": [
    {
     "name": "stderr",
     "output_type": "stream",
     "text": [
      "/usr/local/lib/python3.5/dist-packages/IPython/core/interactiveshell.py:2705: DtypeWarning: Columns (4,11,16,34) have mixed types. Specify dtype option on import or set low_memory=False.\n",
      "  interactivity=interactivity, compiler=compiler, result=result)\n"
     ]
    },
    {
     "data": {
      "text/plain": [
       "Index(['Actividad Institucional', 'Adefas', 'Aprobado', 'Ciclo',\n",
       "       'Clave de cartera', 'Descripción de Fuente de Financiamiento',\n",
       "       'Descripción de Función', 'Descripción de Grupo Funcional',\n",
       "       'Descripción de Objeto del Gasto',\n",
       "       'Descripción de Programa Presupuestario', 'Descripción de Ramo',\n",
       "       'Descripción de Reasignacion', 'Descripción de Subfunción',\n",
       "       'Descripción de Tipo de Gasto', 'Descripción de Unidad Responsable',\n",
       "       'Descripción de la Actividad Institucional',\n",
       "       'Descripción de la entidad federativa',\n",
       "       'Descripción de la modalidad del programa presupuestario', 'Devengado',\n",
       "       'Ejercicio', 'Ejercido', 'Entidad Federativa',\n",
       "       'Fuente de Financiamiento', 'Función', 'Grupo Funcional',\n",
       "       'Modalidad del Programa presupuestario', 'Modificado',\n",
       "       'Objeto del Gasto', 'Pagado', 'Programa Presupuestario', 'Ramo',\n",
       "       'Reasignacion', 'Subfunción', 'Tipo de Gasto', 'Unidad Responsable'],\n",
       "      dtype='object')"
      ]
     },
     "execution_count": 2,
     "metadata": {},
     "output_type": "execute_result"
    }
   ],
   "source": [
    "from pandas import read_csv\n",
    "downloaded = read_csv('/home/loic/Downloads/mexican_federal_budget-merged.csv')\n",
    "downloaded.columns"
   ]
  },
  {
   "cell_type": "code",
   "execution_count": 3,
   "metadata": {
    "collapsed": false
   },
   "outputs": [
    {
     "data": {
      "text/html": [
       "<div>\n",
       "<table border=\"1\" class=\"dataframe\">\n",
       "  <thead>\n",
       "    <tr style=\"text-align: right;\">\n",
       "      <th></th>\n",
       "      <th>Actividad Institucional</th>\n",
       "      <th>Adefas</th>\n",
       "      <th>Aprobado</th>\n",
       "      <th>Ciclo</th>\n",
       "      <th>Clave de cartera</th>\n",
       "      <th>Descripción de Fuente de Financiamiento</th>\n",
       "      <th>Descripción de Función</th>\n",
       "      <th>Descripción de Grupo Funcional</th>\n",
       "      <th>Descripción de Objeto del Gasto</th>\n",
       "      <th>Descripción de Programa Presupuestario</th>\n",
       "      <th>...</th>\n",
       "      <th>Modalidad del Programa presupuestario</th>\n",
       "      <th>Modificado</th>\n",
       "      <th>Objeto del Gasto</th>\n",
       "      <th>Pagado</th>\n",
       "      <th>Programa Presupuestario</th>\n",
       "      <th>Ramo</th>\n",
       "      <th>Reasignacion</th>\n",
       "      <th>Subfunción</th>\n",
       "      <th>Tipo de Gasto</th>\n",
       "      <th>Unidad Responsable</th>\n",
       "    </tr>\n",
       "  </thead>\n",
       "  <tbody>\n",
       "    <tr>\n",
       "      <th>0</th>\n",
       "      <td>4</td>\n",
       "      <td>NaN</td>\n",
       "      <td>9.930500e+07</td>\n",
       "      <td>2016</td>\n",
       "      <td>0</td>\n",
       "      <td>Recursos fiscales</td>\n",
       "      <td>Legislación</td>\n",
       "      <td>Gobierno</td>\n",
       "      <td>Obra pública en bienes propios</td>\n",
       "      <td>Mantenimiento de Infraestructura</td>\n",
       "      <td>...</td>\n",
       "      <td>K</td>\n",
       "      <td>NaN</td>\n",
       "      <td>6200.0</td>\n",
       "      <td>NaN</td>\n",
       "      <td>27.0</td>\n",
       "      <td>1</td>\n",
       "      <td>0.0</td>\n",
       "      <td>1</td>\n",
       "      <td>3.0</td>\n",
       "      <td>100</td>\n",
       "    </tr>\n",
       "    <tr>\n",
       "      <th>1</th>\n",
       "      <td>4</td>\n",
       "      <td>NaN</td>\n",
       "      <td>1.003938e+09</td>\n",
       "      <td>2016</td>\n",
       "      <td>0</td>\n",
       "      <td>Recursos fiscales</td>\n",
       "      <td>Legislación</td>\n",
       "      <td>Gobierno</td>\n",
       "      <td>Remuneraciones al personal de carácter permanente</td>\n",
       "      <td>Actividades derivadas del trabajo legislativo</td>\n",
       "      <td>...</td>\n",
       "      <td>R</td>\n",
       "      <td>NaN</td>\n",
       "      <td>1100.0</td>\n",
       "      <td>NaN</td>\n",
       "      <td>1.0</td>\n",
       "      <td>1</td>\n",
       "      <td>0.0</td>\n",
       "      <td>1</td>\n",
       "      <td>1.0</td>\n",
       "      <td>100</td>\n",
       "    </tr>\n",
       "    <tr>\n",
       "      <th>2</th>\n",
       "      <td>4</td>\n",
       "      <td>NaN</td>\n",
       "      <td>9.651971e+08</td>\n",
       "      <td>2016</td>\n",
       "      <td>0</td>\n",
       "      <td>Recursos fiscales</td>\n",
       "      <td>Legislación</td>\n",
       "      <td>Gobierno</td>\n",
       "      <td>Remuneraciones al personal de carácter transit...</td>\n",
       "      <td>Actividades derivadas del trabajo legislativo</td>\n",
       "      <td>...</td>\n",
       "      <td>R</td>\n",
       "      <td>NaN</td>\n",
       "      <td>1200.0</td>\n",
       "      <td>NaN</td>\n",
       "      <td>1.0</td>\n",
       "      <td>1</td>\n",
       "      <td>0.0</td>\n",
       "      <td>1</td>\n",
       "      <td>1.0</td>\n",
       "      <td>100</td>\n",
       "    </tr>\n",
       "    <tr>\n",
       "      <th>3</th>\n",
       "      <td>4</td>\n",
       "      <td>NaN</td>\n",
       "      <td>1.024815e+09</td>\n",
       "      <td>2016</td>\n",
       "      <td>0</td>\n",
       "      <td>Recursos fiscales</td>\n",
       "      <td>Legislación</td>\n",
       "      <td>Gobierno</td>\n",
       "      <td>Remuneraciones adicionales y especiales</td>\n",
       "      <td>Actividades derivadas del trabajo legislativo</td>\n",
       "      <td>...</td>\n",
       "      <td>R</td>\n",
       "      <td>NaN</td>\n",
       "      <td>1300.0</td>\n",
       "      <td>NaN</td>\n",
       "      <td>1.0</td>\n",
       "      <td>1</td>\n",
       "      <td>0.0</td>\n",
       "      <td>1</td>\n",
       "      <td>1.0</td>\n",
       "      <td>100</td>\n",
       "    </tr>\n",
       "    <tr>\n",
       "      <th>4</th>\n",
       "      <td>4</td>\n",
       "      <td>NaN</td>\n",
       "      <td>3.814606e+08</td>\n",
       "      <td>2016</td>\n",
       "      <td>0</td>\n",
       "      <td>Recursos fiscales</td>\n",
       "      <td>Legislación</td>\n",
       "      <td>Gobierno</td>\n",
       "      <td>Seguridad social</td>\n",
       "      <td>Actividades derivadas del trabajo legislativo</td>\n",
       "      <td>...</td>\n",
       "      <td>R</td>\n",
       "      <td>NaN</td>\n",
       "      <td>1400.0</td>\n",
       "      <td>NaN</td>\n",
       "      <td>1.0</td>\n",
       "      <td>1</td>\n",
       "      <td>0.0</td>\n",
       "      <td>1</td>\n",
       "      <td>1.0</td>\n",
       "      <td>100</td>\n",
       "    </tr>\n",
       "  </tbody>\n",
       "</table>\n",
       "<p>5 rows × 35 columns</p>\n",
       "</div>"
      ],
      "text/plain": [
       "   Actividad Institucional  Adefas      Aprobado  Ciclo Clave de cartera  \\\n",
       "0                        4     NaN  9.930500e+07   2016                0   \n",
       "1                        4     NaN  1.003938e+09   2016                0   \n",
       "2                        4     NaN  9.651971e+08   2016                0   \n",
       "3                        4     NaN  1.024815e+09   2016                0   \n",
       "4                        4     NaN  3.814606e+08   2016                0   \n",
       "\n",
       "  Descripción de Fuente de Financiamiento Descripción de Función  \\\n",
       "0                       Recursos fiscales            Legislación   \n",
       "1                       Recursos fiscales            Legislación   \n",
       "2                       Recursos fiscales            Legislación   \n",
       "3                       Recursos fiscales            Legislación   \n",
       "4                       Recursos fiscales            Legislación   \n",
       "\n",
       "  Descripción de Grupo Funcional  \\\n",
       "0                       Gobierno   \n",
       "1                       Gobierno   \n",
       "2                       Gobierno   \n",
       "3                       Gobierno   \n",
       "4                       Gobierno   \n",
       "\n",
       "                     Descripción de Objeto del Gasto  \\\n",
       "0                     Obra pública en bienes propios   \n",
       "1  Remuneraciones al personal de carácter permanente   \n",
       "2  Remuneraciones al personal de carácter transit...   \n",
       "3            Remuneraciones adicionales y especiales   \n",
       "4                                   Seguridad social   \n",
       "\n",
       "          Descripción de Programa Presupuestario         ...          \\\n",
       "0               Mantenimiento de Infraestructura         ...           \n",
       "1  Actividades derivadas del trabajo legislativo         ...           \n",
       "2  Actividades derivadas del trabajo legislativo         ...           \n",
       "3  Actividades derivadas del trabajo legislativo         ...           \n",
       "4  Actividades derivadas del trabajo legislativo         ...           \n",
       "\n",
       "  Modalidad del Programa presupuestario Modificado Objeto del Gasto Pagado  \\\n",
       "0                                     K        NaN           6200.0    NaN   \n",
       "1                                     R        NaN           1100.0    NaN   \n",
       "2                                     R        NaN           1200.0    NaN   \n",
       "3                                     R        NaN           1300.0    NaN   \n",
       "4                                     R        NaN           1400.0    NaN   \n",
       "\n",
       "  Programa Presupuestario Ramo Reasignacion Subfunción  Tipo de Gasto  \\\n",
       "0                    27.0    1          0.0          1            3.0   \n",
       "1                     1.0    1          0.0          1            1.0   \n",
       "2                     1.0    1          0.0          1            1.0   \n",
       "3                     1.0    1          0.0          1            1.0   \n",
       "4                     1.0    1          0.0          1            1.0   \n",
       "\n",
       "   Unidad Responsable  \n",
       "0                 100  \n",
       "1                 100  \n",
       "2                 100  \n",
       "3                 100  \n",
       "4                 100  \n",
       "\n",
       "[5 rows x 35 columns]"
      ]
     },
     "execution_count": 3,
     "metadata": {},
     "output_type": "execute_result"
    }
   ],
   "source": [
    "downloaded.head()"
   ]
  },
  {
   "cell_type": "code",
   "execution_count": null,
   "metadata": {
    "collapsed": true
   },
   "outputs": [],
   "source": []
  }
 ],
 "metadata": {
  "kernelspec": {
   "display_name": "Python 3",
   "language": "python",
   "name": "python3"
  },
  "language_info": {
   "codemirror_mode": {
    "name": "ipython",
    "version": 3
   },
   "file_extension": ".py",
   "mimetype": "text/x-python",
   "name": "python",
   "nbconvert_exporter": "python",
   "pygments_lexer": "ipython3",
   "version": "3.5.1+"
  }
 },
 "nbformat": 4,
 "nbformat_minor": 0
}
