{
 "cells": [
  {
   "cell_type": "markdown",
   "metadata": {},
   "source": [
    "# Mexican federal budget pre-processing pipeline\n",
    "\n",
    "## Instructions\n",
    "\n",
    "To you run the notebook:\n",
    "\n",
    "1. choose a unique `ITERATION_LABEL` for each pipeline run\n",
    "2. specify and describe your input files (`INPUT_FILES`)\n",
    "3. make sure your column mapping (`COLUMN_ALIASES`) is correct\n",
    "3. run the whole notebook by clicking on __Kernel > Restart & Run All__"
   ]
  },
  {
   "cell_type": "markdown",
   "metadata": {},
   "source": [
    "## Imports"
   ]
  },
  {
   "cell_type": "code",
   "execution_count": 1,
   "metadata": {
    "collapsed": false
   },
   "outputs": [],
   "source": [
    "from sys import stdout\n",
    "from pandas import read_csv, concat, DataFrame, ExcelWriter, ExcelFile, Series\n",
    "from numpy import nan, isnan\n",
    "from os.path import join, isdir\n",
    "from os import mkdir\n",
    "from json import dumps, loads\n",
    "from pprint import pprint"
   ]
  },
  {
   "cell_type": "markdown",
   "metadata": {},
   "source": [
    "## Settings\n",
    "\n",
    "Choose a unique iteration label for each pipeline run."
   ]
  },
  {
   "cell_type": "code",
   "execution_count": 2,
   "metadata": {
    "collapsed": false
   },
   "outputs": [],
   "source": [
    "ITERATION_LABEL = 'iteration-17-all-new-data-2008-2016'"
   ]
  },
  {
   "cell_type": "markdown",
   "metadata": {},
   "source": [
    "Put your input files inside the `pipeline.in` folder and describe them here."
   ]
  },
  {
   "cell_type": "code",
   "execution_count": 3,
   "metadata": {
    "collapsed": false
   },
   "outputs": [],
   "source": [
    "INPUT_FILES = {\n",
    "#     2010: {'name': 'Cuenta_Publica_2010.csv', 'encoding': 'windows-1252'},\n",
    "#     2011: {'name': 'Cuenta_Publica_2011.csv', 'encoding': 'windows-1252'},\n",
    "#     2012: {'name': 'Cuenta_Publica_2012.csv', 'encoding': 'windows-1252'},\n",
    "#     2013: {'name': 'Cuenta_Publica_2013.csv', 'encoding': 'windows-1252'},\n",
    "#     2014: {'name': 'Cuenta_Publica_2014.csv', 'encoding': 'windows-1252'},\n",
    "#     2015: {'name': 'Cuenta_Publica_2015.csv', 'encoding': 'windows-1252'},\n",
    "#     2016: {'name': '2016_2T_Gasto_OS.csv', 'encoding': 'windows-1252'} # cp850 for the original 2016 file\n",
    "    2008: {'name': 'Cuenta_Publica_2008.csv', 'encoding': 'windows-1252'},\n",
    "    2009: {'name': 'Cuenta_Publica_2009.csv', 'encoding': 'windows-1252'},\n",
    "    2010: {'name': 'Cuenta_Publica_2010.csv', 'encoding': 'windows-1252'},\n",
    "    2011: {'name': 'Cuenta_Publica_2011.csv', 'encoding': 'windows-1252'},\n",
    "    2012: {'name': 'Cuenta_Publica_2012.csv', 'encoding': 'windows-1252'},\n",
    "    2013: {'name': 'CP_2013.csv', 'encoding': 'windows-1252'},\n",
    "    2014: {'name': 'CP_2014.csv', 'encoding': 'windows-1252'},\n",
    "    2015: {'name': 'CP_2015.csv', 'encoding': 'windows-1252'},\n",
    "    2016: {'name': 'PEF_AC01_2t_2016.csv', 'encoding': 'windows-1252'} \n",
    "}\n"
   ]
  },
  {
   "cell_type": "markdown",
   "metadata": {},
   "source": [
    "If your input files don't all have the same column names, define your mapping here. "
   ]
  },
  {
   "cell_type": "code",
   "execution_count": 4,
   "metadata": {
    "collapsed": false
   },
   "outputs": [],
   "source": [
    "with open('columns.aliases.json') as json:\n",
    "    COLUMN_ALIASES = loads(json.read())"
   ]
  },
  {
   "cell_type": "code",
   "execution_count": 5,
   "metadata": {
    "collapsed": false
   },
   "outputs": [],
   "source": [
    "from json import dumps\n",
    "\n",
    "with open('column.aliases.json', 'w+', encoding='utf-8') as json:\n",
    "    json.write(dumps(COLUMN_ALIASES, indent=4, ensure_ascii=False))"
   ]
  },
  {
   "cell_type": "markdown",
   "metadata": {},
   "source": [
    "The following hierarchical categories will have IDs prefixed with the parent categories:"
   ]
  },
  {
   "cell_type": "code",
   "execution_count": 6,
   "metadata": {
    "collapsed": true
   },
   "outputs": [],
   "source": [
    "HIERARCHIES = {\n",
    "    'functional': [\n",
    "        'GPO_FUNCIONAL', \n",
    "        'ID_FUNCION', \n",
    "        'ID_SUBFUNCION', \n",
    "        'ID_AI'\n",
    "    ]}"
   ]
  },
  {
   "cell_type": "markdown",
   "metadata": {},
   "source": [
    "The following columns are unsused and removed at the end of the pipeline:"
   ]
  },
  {
   "cell_type": "code",
   "execution_count": 7,
   "metadata": {
    "collapsed": true
   },
   "outputs": [],
   "source": [
    "REMOVE_OUTPUT_COLUMNS = [\n",
    "    'Reasignacion',\n",
    "    'Objeto del Gasto',\n",
    "    'Descripción de Reasignacion',\n",
    "    'Descripción de Objeto del Gasto'\n",
    "]"
   ]
  },
  {
   "cell_type": "code",
   "execution_count": 8,
   "metadata": {
    "collapsed": false
   },
   "outputs": [],
   "source": [
    "REMOVE_INPUT_COLUMNS = {\n",
    "#     2016: [\n",
    "#         'Adefas',\n",
    "#         'Partida Específica',\n",
    "#         'Partida Genérica',\n",
    "#         'Descripción de Partida Genérica',\n",
    "#         'Descripcion de Partida Específica',\n",
    "#         'Ejercicio',\n",
    "#         'Devengado',\n",
    "#         'Ejercido',\n",
    "#     ]\n",
    "}"
   ]
  },
  {
   "cell_type": "markdown",
   "metadata": {},
   "source": [
    "That's it. Now just run the notebook from beginning to end."
   ]
  },
  {
   "cell_type": "markdown",
   "metadata": {},
   "source": [
    "## Configuration"
   ]
  },
  {
   "cell_type": "code",
   "execution_count": 9,
   "metadata": {
    "collapsed": false
   },
   "outputs": [],
   "source": [
    "BASENAME = 'mexican_federal_budget'\n",
    "INPUT_FOLDER = 'pipeline.in.v2'\n",
    "OUTPUT_FOLDER = 'pipeline.out'\n",
    "ITERATION_FOLDER = join(OUTPUT_FOLDER, ITERATION_LABEL)\n",
    "MERGED_FILE = join(ITERATION_FOLDER, BASENAME + '.merged.csv')\n",
    "CATALOGS_FILE = 'objeto_del_gasto.catalog.xlsx'"
   ]
  },
  {
   "cell_type": "code",
   "execution_count": 10,
   "metadata": {
    "collapsed": false
   },
   "outputs": [],
   "source": [
    "if isdir(ITERATION_FOLDER):\n",
    "    raise ValueError('Please enter a unique iteration label')\n",
    "    \n",
    "mkdir(ITERATION_FOLDER)"
   ]
  },
  {
   "cell_type": "markdown",
   "metadata": {},
   "source": [
    "## Encoding inspection\n",
    "\n",
    "Detect the file encodings of the input files using the `cChardet` utility library. __Warning:__ it's not always accurate. This is meant only as an indication only. In the end, encodings will be taken from `INPUT_FILES`."
   ]
  },
  {
   "cell_type": "code",
   "execution_count": 11,
   "metadata": {
    "collapsed": false
   },
   "outputs": [],
   "source": [
    "def detect_encodings():\n",
    "    \"\"\"Detect CSV file encoding with the cChardet library\"\"\"\n",
    "\n",
    "    try:\n",
    "        import cchardet as chardet\n",
    "    except ImportError:\n",
    "        cChardet = 'https://github.com/PyYoshi/cChardet'\n",
    "        print('Encoding inspection skipped: install %s', cChardet)\n",
    "        return\n",
    "\n",
    "    results = {}\n",
    "    results_file = join(OUTPUT_FOLDER, ITERATION_LABEL, 'encodings.detected.json')\n",
    "    \n",
    "    for year, file in sorted(INPUT_FILES.items()):\n",
    "        datafile = join(INPUT_FOLDER, file['name'])\n",
    "        \n",
    "        with open(datafile, 'rb') as f:\n",
    "            text = f.read()\n",
    "            \n",
    "        result = chardet.detect(text)\n",
    "        results.update({year: result})\n",
    "        print(year, 'Inspected', file['name'], result)\n",
    "    \n",
    "    with open(results_file, 'w+') as json:\n",
    "        json.write(dumps(results, indent=4))\n",
    "        print('\\nSaved encoding detection report to', results_file)\n",
    "        \n",
    "# detect_encodings()"
   ]
  },
  {
   "cell_type": "markdown",
   "metadata": {},
   "source": [
    "## Load files"
   ]
  },
  {
   "cell_type": "code",
   "execution_count": 12,
   "metadata": {
    "collapsed": false
   },
   "outputs": [],
   "source": [
    "def read_columns(file, encoding):\n",
    "    \"\"\"Return clean CSV file headers\"\"\"\n",
    "    \n",
    "    with open(file, encoding=encoding) as csv:\n",
    "        header = csv.readline()\n",
    "        return header.replace('\\n', '').split(',')"
   ]
  },
  {
   "cell_type": "code",
   "execution_count": 13,
   "metadata": {
    "collapsed": false
   },
   "outputs": [],
   "source": [
    "def force_strings(columns):\n",
    "    \"\"\"Return string enforcement for each column of a CSV file\"\"\"\n",
    "    \n",
    "    for column in columns:\n",
    "        yield column, str"
   ]
  },
  {
   "cell_type": "code",
   "execution_count": 14,
   "metadata": {
    "collapsed": true
   },
   "outputs": [],
   "source": [
    "def load_csv_files():\n",
    "    \"\"\"Load raw data (CSV) files\"\"\"\n",
    "    \n",
    "    batch = {}\n",
    "    \n",
    "    for year, file in sorted(INPUT_FILES.items()):\n",
    "        filepath = join(INPUT_FOLDER, file['name'])\n",
    "        column_names = read_columns(filepath, file['encoding'])\n",
    "        column_types = dict(force_strings(column_names))\n",
    "        \n",
    "        batch[year] = read_csv(filepath, encoding=file['encoding'], dtype=column_types)\n",
    "        print('Loaded', file['name'], 'with encoding', file['encoding'])\n",
    "    \n",
    "    print()\n",
    "    stdout.flush()\n",
    "\n",
    "    for year in sorted(INPUT_FILES.keys()):\n",
    "        if year in REMOVE_INPUT_COLUMNS:\n",
    "            for column in REMOVE_INPUT_COLUMNS[year]:\n",
    "                try:\n",
    "                    del batch[year][column]\n",
    "                    print(year, 'deleted', column)\n",
    "                except KeyError:\n",
    "                    print(year, column, 'not found in', file['name'])\n",
    "\n",
    "        stdout.flush()\n",
    "\n",
    "    return batch"
   ]
  },
  {
   "cell_type": "markdown",
   "metadata": {},
   "source": [
    "## Clean the data"
   ]
  },
  {
   "cell_type": "code",
   "execution_count": 15,
   "metadata": {
    "collapsed": true
   },
   "outputs": [],
   "source": [
    "def strip_cell_padding(batch):\n",
    "    for year in sorted(batch.keys()):\n",
    "        for column in batch[year].columns:\n",
    "            batch[year].rename(columns={column: column.strip()}, inplace=True)\n",
    "            batch[year][column] = batch[year][column].apply(lambda x: x.strip() if x is not nan else x)\n",
    "        print(year, 'stripped cell paddings')\n",
    "        stdout.flush()"
   ]
  },
  {
   "cell_type": "code",
   "execution_count": 16,
   "metadata": {
    "collapsed": true
   },
   "outputs": [],
   "source": [
    "def delete_empty_columns(batch):\n",
    "    for year in batch.keys():\n",
    "        for column in batch[year].columns:\n",
    "            if 'Unnamed:' in column:\n",
    "                try:\n",
    "                    del batch[year][column]\n",
    "                    print(year, column, 'deleted')\n",
    "                    stdout.flush()\n",
    "                except KeyError:\n",
    "                    pass  "
   ]
  },
  {
   "cell_type": "code",
   "execution_count": 17,
   "metadata": {
    "collapsed": false
   },
   "outputs": [],
   "source": [
    "def count_missing_values(batch):\n",
    "    collector = {}\n",
    "    table = []\n",
    "\n",
    "    for column in get_union_of_columns(batch):\n",
    "        row = {'Column': column}\n",
    "        collector.update({column: []})\n",
    "        \n",
    "        for year in batch.keys():\n",
    "            if column in batch[year].columns:\n",
    "                is_empty = batch[year][column].isnull()\n",
    "                empty_lines = batch[year].where(is_empty).dropna(how='all')\n",
    "                collector[column].extend(empty_lines.to_dict(orient='records'))\n",
    "                nb_empty_cells = len(empty_lines)\n",
    "            else:\n",
    "                nb_empty_cells = nan\n",
    "                \n",
    "            row.update({year: nb_empty_cells})\n",
    "            if nb_empty_cells not in (nan, 0):\n",
    "                print(year, 'found', nb_empty_cells, 'missing values in', column)\n",
    "\n",
    "        table.append(row)\n",
    "        \n",
    "    ordered_columns = ['Column']\n",
    "    ordered_columns.extend(sorted(batch.keys()))\n",
    "    empty_values_overview_table = DataFrame(table).reindex_axis(ordered_columns, axis=1)\n",
    "    \n",
    "    return empty_values_overview_table, collector"
   ]
  },
  {
   "cell_type": "code",
   "execution_count": 18,
   "metadata": {
    "collapsed": true
   },
   "outputs": [],
   "source": [
    "def count_duplicates(batch):\n",
    "    for year, df in sorted(batch.items()):\n",
    "        nb_duplicate_lines = df.duplicated().apply(lambda x: 1 if x is True else 0).sum()\n",
    "        print(year, 'found', nb_duplicate_lines, 'duplicate lines')"
   ]
  },
  {
   "cell_type": "markdown",
   "metadata": {},
   "source": [
    "## Alias column names"
   ]
  },
  {
   "cell_type": "code",
   "execution_count": 19,
   "metadata": {
    "collapsed": true
   },
   "outputs": [],
   "source": [
    "def get_union_of_columns(batch):\n",
    "    union = set()\n",
    "    for year in batch.keys():\n",
    "        union = union | set(batch[year].columns)\n",
    "    return union"
   ]
  },
  {
   "cell_type": "code",
   "execution_count": 20,
   "metadata": {
    "collapsed": true
   },
   "outputs": [],
   "source": [
    "from yaml import load\n",
    "\n",
    "def load_aliases(file):\n",
    "    with open(file) as yaml:\n",
    "        aliases = load(yaml.read())\n",
    "        return aliases"
   ]
  },
  {
   "cell_type": "code",
   "execution_count": 21,
   "metadata": {
    "collapsed": true
   },
   "outputs": [],
   "source": [
    "def map_columns_to_aliases(batch, list_of_aliases):\n",
    "    for year in sorted(batch.keys()):\n",
    "        for column in sorted(batch[year].columns):\n",
    "            if not column in list_of_aliases:\n",
    "                for reference, aliases in list_of_aliases.items():\n",
    "                    if aliases:\n",
    "                        if column in aliases:\n",
    "                            batch[year].rename(columns={column: reference}, inplace=True)\n",
    "                            print(year, column, 'replaced with', reference)\n",
    "                            stdout.flush()\n",
    "                            break  \n",
    "                else:\n",
    "                    print(year, 'NO ALIAS REGISTERED FOR', column)\n",
    "                    stdout.flush()"
   ]
  },
  {
   "cell_type": "code",
   "execution_count": 22,
   "metadata": {
    "collapsed": true
   },
   "outputs": [],
   "source": [
    "def build_overview(batch):\n",
    "    table = []\n",
    "    \n",
    "    for column in get_union_of_columns(batch):\n",
    "        row = {'Column': column}\n",
    "        for year in batch.keys():\n",
    "            row.update({year: column in batch[year].columns})\n",
    "        table.append(row)\n",
    "        \n",
    "    ordered_columns = ['Column']\n",
    "    ordered_columns.extend(sorted(batch.keys()))\n",
    "    \n",
    "    overview = DataFrame(table).reindex_axis(ordered_columns, axis=1)\n",
    "    print('Column mapping overview: done')\n",
    "    return overview"
   ]
  },
  {
   "cell_type": "markdown",
   "metadata": {},
   "source": [
    "## Check expenditure sums\n",
    "\n",
    "There's a little cleaning to do on the amount columns (zeros represented by a dash). Assume thousands are seperated by a comma."
   ]
  },
  {
   "cell_type": "code",
   "execution_count": 23,
   "metadata": {
    "collapsed": false
   },
   "outputs": [],
   "source": [
    "EXPENDITURE_COLUMNS = [\n",
    "    'MONTO_EJERCIDO', \n",
    "    'MONTO_DEVENGADO', \n",
    "    'MONTO_APROBADO', \n",
    "    'MONTO_PAGADO', \n",
    "    'MONTO_MODIFICADO', \n",
    "    'MONTO_ADEFAS', \n",
    "    'MONTO_EJERCICIO'\n",
    "]\n",
    "count = 0\n",
    "\n",
    "def clean_expenditure_columns(batch):\n",
    "    check_sums = []\n",
    "\n",
    "    for column in EXPENDITURE_COLUMNS:\n",
    "        row = {'Column': column}\n",
    "        \n",
    "        for year in sorted(batch.keys()):\n",
    "            try:\n",
    "                series = batch[year][column]\n",
    "                \n",
    "                # I'm assuming a single '-' represents zero\n",
    "                series = series.apply(lambda x: '0' if x == '-' else x)\n",
    "                try:\n",
    "                    series = series.apply(lambda x: x.replace(',', '') if x is not nan else x)    \n",
    "                except AttributeError:\n",
    "                    if count < 10:\n",
    "                        print(year, column)\n",
    "                batch[year][column] = series.astype(float)\n",
    "                check_sum = batch[year][column].sum()\n",
    "                \n",
    "                print(year, 'cleaned and summed', column, '=', check_sum, 'pesos')\n",
    "                \n",
    "            except KeyError:\n",
    "                check_sum = nan\n",
    "                \n",
    "            row.update({year: check_sum})\n",
    "        \n",
    "        check_sums.append(row)\n",
    "\n",
    "    ordered_columns = ['Column']\n",
    "    ordered_columns.extend(sorted(batch.keys()))\n",
    "    return DataFrame(check_sums).reindex_axis(ordered_columns, axis=1)    "
   ]
  },
  {
   "cell_type": "markdown",
   "metadata": {},
   "source": [
    "## Objeto del Gasto Column split"
   ]
  },
  {
   "cell_type": "code",
   "execution_count": 24,
   "metadata": {
    "collapsed": true
   },
   "outputs": [],
   "source": [
    "from os.path import join\n",
    "\n",
    "def generate_catalog(file):\n",
    "    \n",
    "    catalog_ = {}\n",
    "    catalog_file = ExcelFile(file)\n",
    "    INDEX_COLUMN = 0\n",
    "    \n",
    "    for sheet in catalog_file.sheet_names:\n",
    "        if sheet != 'Concatenated':\n",
    "            name = sheet.lower().replace(' ', '_')\n",
    "            output = join('objeto_del_gasto.catalog', name + '.csv')\n",
    "\n",
    "            df = catalog_file.parse(sheet).dropna()\n",
    "            index = df.columns[INDEX_COLUMN]\n",
    "\n",
    "            df[index] =  df[index].astype(str)\n",
    "            df.set_index(index, inplace=True)\n",
    "            df = df.groupby(df.index).first()\n",
    "            df.sort_index(inplace=True)\n",
    "            \n",
    "            message = 'Loaded catalog {sheet} into \"{name}\" ({nb} lines)'\n",
    "            parameters = dict(sheet=sheet, name=name, nb=len(df))\n",
    "\n",
    "            print(message.format(**parameters))\n",
    "            catalog_[name] = df['DESCRIPCION']\n",
    "    \n",
    "    print()\n",
    "    return catalog_"
   ]
  },
  {
   "cell_type": "markdown",
   "metadata": {},
   "source": [
    "__Note!__ Years are hard coded in the script below."
   ]
  },
  {
   "cell_type": "code",
   "execution_count": 25,
   "metadata": {
    "collapsed": false
   },
   "outputs": [],
   "source": [
    "def split_objeto_del_gasto(batch):\n",
    "    catalog = generate_catalog(CATALOGS_FILE)\n",
    "    missing_in_catalog = []\n",
    "    \n",
    "    def has_digits(n, N):\n",
    "        return not isinstance(n, float) and len(n) >= N \n",
    "            \n",
    "    def lookup(n, table, year):\n",
    "        try:\n",
    "            return catalog[table].loc[n]\n",
    "        except KeyError:\n",
    "            missing_in_catalog.append({'year': year, 'table': table, 'ID': n})\n",
    "            return nan\n",
    "        except TypeError:\n",
    "            # n is nan\n",
    "            return nan\n",
    "    \n",
    "    for year in sorted(batch.keys()):\n",
    "        if year == 2016:\n",
    "            print('Skipping', year, 'because the raw CSV already has the required columns')\n",
    "        \n",
    "        else:\n",
    "            objeto = batch[year]['ID_CONCEPTO'].astype(str)\n",
    "\n",
    "            batch[year]['ID_CAPITULO'] = objeto.apply(lambda x: x[0] + '000' if x not in (nan, 'nan') else nan)\n",
    "            batch[year]['ID_CONCEPTO'] = objeto.apply(lambda x: x[:2] + '00' if x not in (nan, 'nan') else nan)\n",
    "            batch[year]['DESC_CAPITULO'] = batch[year]['ID_CAPITULO'].map(lambda x: lookup(x, 'capitulo', year))  \n",
    "            batch[year]['DESC_CONCEPTO'] = batch[year]['ID_CONCEPTO'].map(lambda x: lookup(x, 'concepto', year))  \n",
    "            \n",
    "            nb_generica_digits = 4 if year in (2008, 2009, 2010) else 3\n",
    "            \n",
    "            # Skip the LAST year of the dataset (currently 2016) it has split columns already\n",
    "            batch[year]['PARTIDA_GENERICA'] = objeto.apply(lambda x: x[:nb_generica_digits] if has_digits(x, 4) else nan)\n",
    "            batch[year]['DESC_PARTIDA_GENERICA'] = batch[year]['PARTIDA_GENERICA'].map(lambda x: lookup(x, 'partida_generica', year))  \n",
    "            \n",
    "            if year not in (2008, 2009, 2010):\n",
    "                batch[year]['PARTIDA_ESPECIFICA'] = objeto.apply(lambda x: x if has_digits(x, 5) else nan)\n",
    "                batch[year]['DESC_PARTIDA_ESPECIFICA'] = batch[year]['PARTIDA_ESPECIFICA'].map(lambda x: lookup(x, 'partida_específica', year) if has_digits(x, 5) else nan)  \n",
    "            else:\n",
    "                batch[year]['PARTIDA_ESPECIFICA'] = nan\n",
    "                batch[year]['DESC_PARTIDA_ESPECIFICA'] = nan\n",
    "\n",
    "            print(year, 'broke down \"Objeto del Gasto\" column')\n",
    "        \n",
    "    return DataFrame(missing_in_catalog).drop_duplicates(['ID', 'table'])"
   ]
  },
  {
   "cell_type": "markdown",
   "metadata": {},
   "source": [
    "## Prefix IDs \n",
    "Disambiguating sub-categories may require prefixing their IDs with their parents' IDs."
   ]
  },
  {
   "cell_type": "code",
   "execution_count": 26,
   "metadata": {
    "collapsed": true
   },
   "outputs": [],
   "source": [
    "def prefix_ids(batch):\n",
    "    for year in batch.keys():       \n",
    "        for hierarchy, levels in HIERARCHIES.items():\n",
    "            prefix = batch[year]['CICLO'].apply(lambda x: '')\n",
    "            for n, level in enumerate(levels):\n",
    "                dash = '.' if n > 0 else ''\n",
    "                prefix = prefix + dash + batch[year][level]  \n",
    "                batch[year][level] = prefix\n",
    "                \n",
    "                print(year, 'prefixed', hierarchy, 'level', n, level)\n",
    "                stdout.flush()"
   ]
  },
  {
   "cell_type": "markdown",
   "metadata": {},
   "source": [
    "## Remove unused columns"
   ]
  },
  {
   "cell_type": "code",
   "execution_count": 27,
   "metadata": {
    "collapsed": false
   },
   "outputs": [],
   "source": [
    "def remove_unused_columns(batch):\n",
    "    for year, budget in batch.items():\n",
    "        for column in REMOVE_OUTPUT_COLUMNS:\n",
    "            try:\n",
    "                del budget[column]\n",
    "                print(year, 'deleted', column)\n",
    "            except KeyError:\n",
    "                print(column, ': no such column to delete')"
   ]
  },
  {
   "cell_type": "markdown",
   "metadata": {},
   "source": [
    "##  Pipeline"
   ]
  },
  {
   "cell_type": "code",
   "execution_count": 28,
   "metadata": {
    "collapsed": false
   },
   "outputs": [],
   "source": [
    "def do_pipeline():\n",
    "\n",
    "    def echo_section(section):\n",
    "        print('\\n', section, '\\n')\n",
    "\n",
    "    echo_section('Loading files')\n",
    "    datasets = load_csv_files()\n",
    "    \n",
    "    echo_section('Delete empty columns')\n",
    "    delete_empty_columns(datasets)\n",
    "\n",
    "    echo_section('Stripping padding from cells')\n",
    "    strip_cell_padding(datasets)\n",
    "    \n",
    "    echo_section('Counting duplicate lines (NOT de-duplicating)')\n",
    "    count_duplicates(datasets)\n",
    "    \n",
    "    echo_section('Mapping column to aliases')\n",
    "    map_columns_to_aliases(datasets, COLUMN_ALIASES)\n",
    "\n",
    "    echo_section('Counting missing values')\n",
    "    missing_values_report, bad_records = count_missing_values(datasets)\n",
    "    \n",
    "    echo_section('Building column mapping overview')\n",
    "    column_mapping_report = build_overview(datasets)\n",
    "    \n",
    "    echo_section('Cleaning expenditure columns')\n",
    "    sums_report = clean_expenditure_columns(datasets)\n",
    "    \n",
    "    echo_section('Breaking down Objeto del Gasto column')\n",
    "    missing_catalog_ids = split_objeto_del_gasto(datasets)\n",
    "        \n",
    "    echo_section('Prefixing IDs of certain category hierarchies')\n",
    "    prefix_ids(datasets)\n",
    "\n",
    "    echo_section('Removing unused columns')\n",
    "    remove_unused_columns(datasets)\n",
    "\n",
    "    echo_section('Saving pipeline configuration')\n",
    "\n",
    "    reports_file = join(ITERATION_FOLDER, BASENAME + '.reports.xlsx')\n",
    "    writer = ExcelWriter(reports_file)    \n",
    "    missing_values_report.to_excel(writer, 'missing values', encoding='utf-8', index=False)\n",
    "    column_mapping_report.to_excel(writer, 'column mapping', encoding='utf-8', index=False)\n",
    "    sums_report.to_excel(writer, 'check sums', encoding='utf-8', index=False)\n",
    "    missing_catalog_ids.to_excel(writer, 'missing_catalog_IDs', encoding='utf-8', index=False)    \n",
    "    print('Saved 4 reports to', reports_file)    \n",
    "\n",
    "    aliases_file = join(ITERATION_FOLDER, BASENAME + '.aliases.json')\n",
    "    inputs_file = join(ITERATION_FOLDER, BASENAME + '.inputs.json')\n",
    "    levels_file = join(ITERATION_FOLDER, BASENAME + '.levels.json')\n",
    "    bad_records_file = join(ITERATION_FOLDER, BASENAME + '.missing.json')\n",
    "\n",
    "    with open(bad_records_file, 'w+') as json:\n",
    "        json.write(dumps(bad_records, indent=4))\n",
    "        \n",
    "    with open(aliases_file, 'w+') as json:\n",
    "        json.write(dumps(COLUMN_ALIASES, indent=4))\n",
    "        \n",
    "    with open(levels_file, 'w+') as json:\n",
    "        json.write(dumps(HIERARCHIES, indent=4))\n",
    "        \n",
    "    with open(inputs_file, 'w+') as json:\n",
    "        json.write(dumps(INPUT_FILES, indent=4))\n",
    "    \n",
    "    print('Saved input configuration to', inputs_file)    \n",
    "    print('Saved column aliases to', aliases_file) \n",
    "    print('Saved bad records (those with empty cells) to', bad_records_file)    \n",
    "    print('Saved hierarchy levels used for prefixing to', levels_file) \n",
    "    \n",
    "    echo_section('Pipeline run \"%s\" done' % ITERATION_LABEL)\n",
    "\n",
    "    return datasets, missing_catalog_ids, column_mapping_report, missing_values_report, sums_report"
   ]
  },
  {
   "cell_type": "markdown",
   "metadata": {},
   "source": [
    "## Run the pipeline"
   ]
  },
  {
   "cell_type": "code",
   "execution_count": 29,
   "metadata": {
    "collapsed": false
   },
   "outputs": [
    {
     "name": "stdout",
     "output_type": "stream",
     "text": [
      "\n",
      " Loading files \n",
      "\n",
      "Loaded Cuenta_Publica_2008.csv with encoding windows-1252\n",
      "Loaded Cuenta_Publica_2009.csv with encoding windows-1252\n",
      "Loaded Cuenta_Publica_2010.csv with encoding windows-1252\n",
      "Loaded Cuenta_Publica_2011.csv with encoding windows-1252\n",
      "Loaded Cuenta_Publica_2012.csv with encoding windows-1252\n",
      "Loaded CP_2013.csv with encoding windows-1252\n",
      "Loaded CP_2014.csv with encoding windows-1252\n",
      "Loaded CP_2015.csv with encoding windows-1252\n",
      "Loaded PEF_AC01_2t_2016.csv with encoding windows-1252\n",
      "\n",
      "\n",
      " Delete empty columns \n",
      "\n",
      "2009 Unnamed: 25 deleted\n",
      "2009 Unnamed: 26 deleted\n",
      "2009 Unnamed: 27 deleted\n",
      "2009 Unnamed: 28 deleted\n",
      "2009 Unnamed: 29 deleted\n",
      "2009 Unnamed: 30 deleted\n",
      "2009 Unnamed: 31 deleted\n",
      "2009 Unnamed: 32 deleted\n",
      "2009 Unnamed: 33 deleted\n",
      "2009 Unnamed: 34 deleted\n",
      "2009 Unnamed: 35 deleted\n",
      "2009 Unnamed: 36 deleted\n",
      "2009 Unnamed: 37 deleted\n",
      "2009 Unnamed: 38 deleted\n",
      "2009 Unnamed: 39 deleted\n",
      "2011 Unnamed: 25 deleted\n",
      "2011 Unnamed: 26 deleted\n",
      "2011 Unnamed: 27 deleted\n",
      "2011 Unnamed: 28 deleted\n",
      "2011 Unnamed: 29 deleted\n",
      "2011 Unnamed: 30 deleted\n",
      "2011 Unnamed: 31 deleted\n",
      "2011 Unnamed: 32 deleted\n",
      "2011 Unnamed: 33 deleted\n",
      "2011 Unnamed: 34 deleted\n",
      "2011 Unnamed: 35 deleted\n",
      "2011 Unnamed: 36 deleted\n",
      "2011 Unnamed: 37 deleted\n",
      "2011 Unnamed: 38 deleted\n",
      "2011 Unnamed: 39 deleted\n",
      "2011 Unnamed: 40 deleted\n",
      "2011 Unnamed: 41 deleted\n",
      "\n",
      " Stripping padding from cells \n",
      "\n",
      "2008 stripped cell paddings\n",
      "2009 stripped cell paddings\n",
      "2010 stripped cell paddings\n",
      "2011 stripped cell paddings\n",
      "2012 stripped cell paddings\n",
      "2013 stripped cell paddings\n",
      "2014 stripped cell paddings\n",
      "2015 stripped cell paddings\n",
      "2016 stripped cell paddings\n",
      "\n",
      " Counting duplicate lines (NOT de-duplicating) \n",
      "\n",
      "2008 found 0 duplicate lines\n",
      "2009 found 218 duplicate lines\n",
      "2010 found 34 duplicate lines\n",
      "2011 found 37 duplicate lines\n",
      "2012 found 558 duplicate lines\n",
      "2013 found 0 duplicate lines\n",
      "2014 found 47 duplicate lines\n",
      "2015 found 16 duplicate lines\n",
      "2016 found 20 duplicate lines\n",
      "\n",
      " Mapping column to aliases \n",
      "\n",
      "2008 Actividad Institucional replaced with ID_AI\n",
      "2008 Aprobado replaced with MONTO_APROBADO\n",
      "2008 Ciclo replaced with CICLO\n",
      "2008 Descripción de Finalidad replaced with DESC_GPO_FUNCIONAL\n",
      "2008 Descripción de Fuente de Financiamiento replaced with DESC_FF\n",
      "2008 Descripción de Función replaced with DESC_FUNCION\n",
      "2008 Descripción de Objeto del Gasto replaced with DESC_CONCEPTO\n",
      "2008 Descripción de Programa Presupuestario replaced with DESC_PP\n",
      "2008 Descripción de Ramo replaced with DESC_RAMO\n",
      "2008 Descripción de Subfunción replaced with DESC_SUBFUNCION\n",
      "2008 Descripción de Tipo de Gasto replaced with DESC_TIPOGASTO\n",
      "2008 Descripción de Unidad Responsable replaced with DESC_UR\n",
      "2008 Descripción de la Actividad Institucional replaced with DESC_AI\n",
      "2008 Descripción de la modalidad del programa presupuestario replaced with DESC_MODALIDAD\n",
      "2008 Ejercido replaced with MONTO_EJERCIDO\n",
      "2008 Finalidad replaced with GPO_FUNCIONAL\n",
      "2008 Fuente de Financiamiento replaced with ID_FF\n",
      "2008 Función replaced with ID_FUNCION\n",
      "2008 Modalidad del Programa presupuestario replaced with ID_MODALIDAD\n",
      "2008 Objeto del Gasto replaced with ID_CONCEPTO\n",
      "2008 Programa Presupuestario replaced with ID_PP\n",
      "2008 Ramo replaced with ID_RAMO\n",
      "2008 Subfunción replaced with ID_SUBFUNCION\n",
      "2008 Tipo de Gasto replaced with ID_TIPOGASTO\n",
      "2008 Unidad Responsable replaced with ID_UR\n",
      "2009 Actividad Institucional replaced with ID_AI\n",
      "2009 Aprobado replaced with MONTO_APROBADO\n",
      "2009 Ciclo replaced with CICLO\n",
      "2009 Descripción de Finalidad replaced with DESC_GPO_FUNCIONAL\n",
      "2009 Descripción de Fuente de Financiamiento replaced with DESC_FF\n",
      "2009 Descripción de Función replaced with DESC_FUNCION\n",
      "2009 Descripción de Objeto del Gasto replaced with DESC_CONCEPTO\n",
      "2009 Descripción de Programa Presupuestario replaced with DESC_PP\n",
      "2009 Descripción de Ramo replaced with DESC_RAMO\n",
      "2009 Descripción de Subfunción replaced with DESC_SUBFUNCION\n",
      "2009 Descripción de Tipo de Gasto replaced with DESC_TIPOGASTO\n",
      "2009 Descripción de Unidad Responsable replaced with DESC_UR\n",
      "2009 Descripción de la Actividad Institucional replaced with DESC_AI\n",
      "2009 Descripción de la modalidad del programa presupuestario replaced with DESC_MODALIDAD\n",
      "2009 Ejercido replaced with MONTO_EJERCIDO\n",
      "2009 Finalidad replaced with GPO_FUNCIONAL\n",
      "2009 Fuente de Financiamiento replaced with ID_FF\n",
      "2009 Función replaced with ID_FUNCION\n",
      "2009 Modalidad del Programa presupuestario replaced with ID_MODALIDAD\n",
      "2009 Objeto del Gasto replaced with ID_CONCEPTO\n",
      "2009 Programa Presupuestario replaced with ID_PP\n",
      "2009 Ramo replaced with ID_RAMO\n",
      "2009 Subfunción replaced with ID_SUBFUNCION\n",
      "2009 Tipo de Gasto replaced with ID_TIPOGASTO\n",
      "2009 Unidad Responsable replaced with ID_UR\n",
      "2010 Actividad Institucional replaced with ID_AI\n",
      "2010 Aprobado replaced with MONTO_APROBADO\n",
      "2010 Ciclo replaced with CICLO\n",
      "2010 Descripción de Finalidad replaced with DESC_GPO_FUNCIONAL\n",
      "2010 Descripción de Fuente de Financiamiento replaced with DESC_FF\n",
      "2010 Descripción de Función replaced with DESC_FUNCION\n",
      "2010 Descripción de Objeto del Gasto replaced with DESC_CONCEPTO\n",
      "2010 Descripción de Programa Presupuestario replaced with DESC_PP\n",
      "2010 Descripción de Ramo replaced with DESC_RAMO\n",
      "2010 Descripción de Subfunción replaced with DESC_SUBFUNCION\n",
      "2010 Descripción de Tipo de Gasto replaced with DESC_TIPOGASTO\n",
      "2010 Descripción de Unidad Responsable replaced with DESC_UR\n",
      "2010 Descripción de la Actividad Institucional replaced with DESC_AI\n",
      "2010 Descripción de la modalidad del programa presupuestario replaced with DESC_MODALIDAD\n",
      "2010 Ejercido replaced with MONTO_EJERCIDO\n",
      "2010 Finalidad replaced with GPO_FUNCIONAL\n",
      "2010 Fuente de Financiamiento replaced with ID_FF\n",
      "2010 Función replaced with ID_FUNCION\n",
      "2010 Modalidad del Programa presupuestario replaced with ID_MODALIDAD\n",
      "2010 Objeto del Gasto replaced with ID_CONCEPTO\n",
      "2010 Programa Presupuestario replaced with ID_PP\n",
      "2010 Ramo replaced with ID_RAMO\n",
      "2010 Subfunción replaced with ID_SUBFUNCION\n",
      "2010 Tipo de Gasto replaced with ID_TIPOGASTO\n",
      "2010 Unidad Responsable replaced with ID_UR\n",
      "2011 Actividad Institucional replaced with ID_AI\n",
      "2011 Aprobado replaced with MONTO_APROBADO\n",
      "2011 Ciclo replaced with CICLO\n",
      "2011 Descripción de Finalidad replaced with DESC_GPO_FUNCIONAL\n",
      "2011 Descripción de Fuente de Financiamiento replaced with DESC_FF\n",
      "2011 Descripción de Función replaced with DESC_FUNCION\n",
      "2011 Descripción de Objeto del Gasto replaced with DESC_CONCEPTO\n",
      "2011 Descripción de Programa Presupuestario replaced with DESC_PP\n",
      "2011 Descripción de Ramo replaced with DESC_RAMO\n",
      "2011 Descripción de Subfunción replaced with DESC_SUBFUNCION\n",
      "2011 Descripción de Tipo de Gasto replaced with DESC_TIPOGASTO\n",
      "2011 Descripción de Unidad Responsable replaced with DESC_UR\n",
      "2011 Descripción de la Actividad Institucional replaced with DESC_AI\n",
      "2011 Descripción de la modalidad del programa presupuestario replaced with DESC_MODALIDAD\n",
      "2011 Ejercido replaced with MONTO_EJERCIDO\n",
      "2011 Finalidad replaced with GPO_FUNCIONAL\n",
      "2011 Fuente de Financiamiento replaced with ID_FF\n",
      "2011 Función replaced with ID_FUNCION\n",
      "2011 Modalidad del Programa presupuestario replaced with ID_MODALIDAD\n",
      "2011 Objeto del Gasto replaced with ID_CONCEPTO\n",
      "2011 Programa Presupuestario replaced with ID_PP\n",
      "2011 Ramo replaced with ID_RAMO\n",
      "2011 Subfunción replaced with ID_SUBFUNCION\n",
      "2011 Tipo de Gasto replaced with ID_TIPOGASTO\n",
      "2011 Unidad Responsable replaced with ID_UR\n",
      "2012 Actividad Institucional replaced with ID_AI\n",
      "2012 Aprobado replaced with MONTO_APROBADO\n",
      "2012 Ciclo replaced with CICLO\n",
      "2012 Clave de cartera replaced with ID_PPI\n",
      "2012 Descripción de Finalidad replaced with DESC_GPO_FUNCIONAL\n",
      "2012 Descripción de Fuente de Financiamiento replaced with DESC_FF\n",
      "2012 Descripción de Función replaced with DESC_FUNCION\n",
      "2012 Descripción de Objeto del Gasto replaced with DESC_CONCEPTO\n",
      "2012 Descripción de Programa Presupuestario replaced with DESC_PP\n",
      "2012 Descripción de Ramo replaced with DESC_RAMO\n",
      "2012 Descripción de Subfunción replaced with DESC_SUBFUNCION\n",
      "2012 Descripción de Tipo de Gasto replaced with DESC_TIPOGASTO\n",
      "2012 Descripción de Unidad Responsable replaced with DESC_UR\n",
      "2012 Descripción de la Actividad Institucional replaced with DESC_AI\n",
      "2012 Descripción de la entidad federativa replaced with DESC_ENT_FED\n",
      "2012 Descripción de la modalidad del programa presupuestario replaced with DESC_MODALIDAD\n",
      "2012 Ejercido replaced with MONTO_EJERCIDO\n",
      "2012 Entidad Federativa replaced with ENTIDAD\n",
      "2012 Finalidad replaced with GPO_FUNCIONAL\n",
      "2012 Fuente de Financiamiento replaced with ID_FF\n",
      "2012 Función replaced with ID_FUNCION\n",
      "2012 Modalidad del Programa presupuestario replaced with ID_MODALIDAD\n",
      "2012 Objeto del Gasto replaced with ID_CONCEPTO\n",
      "2012 Programa Presupuestario replaced with ID_PP\n",
      "2012 Ramo replaced with ID_RAMO\n",
      "2012 Subfunción replaced with ID_SUBFUNCION\n",
      "2012 Tipo de Gasto replaced with ID_TIPOGASTO\n",
      "2012 Unidad Responsable replaced with ID_UR\n",
      "2013 Actividad Institucional replaced with ID_AI\n",
      "2013 Aprobado replaced with MONTO_APROBADO\n",
      "2013 Ciclo replaced with CICLO\n",
      "2013 Clave de cartera replaced with ID_PPI\n",
      "2013 Descripción de Finalidad replaced with DESC_GPO_FUNCIONAL\n",
      "2013 Descripción de Fuente de Financiamiento replaced with DESC_FF\n",
      "2013 Descripción de Función replaced with DESC_FUNCION\n",
      "2013 Descripción de Objeto del Gasto replaced with DESC_CONCEPTO\n",
      "2013 Descripción de Programa Presupuestario replaced with DESC_PP\n",
      "2013 Descripción de Ramo replaced with DESC_RAMO\n",
      "2013 Descripción de Subfunción replaced with DESC_SUBFUNCION\n",
      "2013 Descripción de Tipo de Gasto replaced with DESC_TIPOGASTO\n",
      "2013 Descripción de Unidad Responsable replaced with DESC_UR\n",
      "2013 Descripción de la Actividad Institucional replaced with DESC_AI\n",
      "2013 Descripción de la entidad federativa replaced with DESC_ENT_FED\n",
      "2013 Descripción de la modalidad del programa presupuestario replaced with DESC_MODALIDAD\n",
      "2013 Ejercicio replaced with MONTO_EJERCICIO\n",
      "2013 Entidad Federativa replaced with ENTIDAD\n",
      "2013 Finalidad replaced with GPO_FUNCIONAL\n",
      "2013 Fuente de Financiamiento replaced with ID_FF\n",
      "2013 Función replaced with ID_FUNCION\n",
      "2013 Modalidad del Programa presupuestario replaced with ID_MODALIDAD\n",
      "2013 Objeto del Gasto replaced with ID_CONCEPTO\n",
      "2013 Programa Presupuestario replaced with ID_PP\n",
      "2013 Ramo replaced with ID_RAMO\n",
      "2013 Subfunción replaced with ID_SUBFUNCION\n",
      "2013 Tipo de Gasto replaced with ID_TIPOGASTO\n",
      "2013 Unidad Responsable replaced with ID_UR\n",
      "2014 ADEFAS replaced with MONTO_ADEFAS\n",
      "2014 Actividad Institucional replaced with ID_AI\n",
      "2014 Aprobado replaced with MONTO_APROBADO\n",
      "2014 Ciclo replaced with CICLO\n",
      "2014 Clave de cartera replaced with ID_PPI\n",
      "2014 Descripción de Fuente de Financiamiento replaced with DESC_FF\n",
      "2014 Descripción de Función replaced with DESC_FUNCION\n",
      "2014 Descripción de Grupo Funcional replaced with DESC_GPO_FUNCIONAL\n",
      "2014 Descripción de Objeto del Gasto replaced with DESC_CONCEPTO\n",
      "2014 Descripción de Programa Presupuestario replaced with DESC_PP\n",
      "2014 Descripción de Ramo replaced with DESC_RAMO\n",
      "2014 Descripción de Subfunción replaced with DESC_SUBFUNCION\n",
      "2014 Descripción de Tipo de Gasto replaced with DESC_TIPOGASTO\n",
      "2014 Descripción de Unidad Responsable replaced with DESC_UR\n",
      "2014 Descripción de la Actividad Institucional replaced with DESC_AI\n",
      "2014 Descripción de la entidad federativa replaced with DESC_ENT_FED\n",
      "2014 Descripción de la modalidad del programa presupuestario replaced with DESC_MODALIDAD\n",
      "2014 Devengado replaced with MONTO_DEVENGADO\n",
      "2014 Ejercicio replaced with MONTO_EJERCICIO\n",
      "2014 Entidad Federativa replaced with ENTIDAD\n",
      "2014 Fuente de Financiamiento replaced with ID_FF\n",
      "2014 Función replaced with ID_FUNCION\n",
      "2014 Grupo Funcional replaced with GPO_FUNCIONAL\n",
      "2014 Modalidad del Programa presupuestario replaced with ID_MODALIDAD\n",
      "2014 Modificado replaced with MONTO_MODIFICADO\n",
      "2014 Objeto del Gasto replaced with ID_CONCEPTO\n",
      "2014 Pagado replaced with MONTO_PAGADO\n",
      "2014 Programa Presupuestario replaced with ID_PP\n",
      "2014 Ramo replaced with ID_RAMO\n",
      "2014 Subfunción replaced with ID_SUBFUNCION\n",
      "2014 Tipo de Gasto replaced with ID_TIPOGASTO\n",
      "2014 Unidad Responsable replaced with ID_UR\n",
      "2015 Actividad Institucional replaced with ID_AI\n",
      "2015 Adefas replaced with MONTO_ADEFAS\n",
      "2015 Aprobado replaced with MONTO_APROBADO\n",
      "2015 Ciclo replaced with CICLO\n",
      "2015 Clave de cartera replaced with ID_PPI\n",
      "2015 Descripción de Fuente de Financiamiento replaced with DESC_FF\n",
      "2015 Descripción de Función replaced with DESC_FUNCION\n",
      "2015 Descripción de Grupo Funcional replaced with DESC_GPO_FUNCIONAL\n",
      "2015 Descripción de Objeto del Gasto replaced with DESC_CONCEPTO\n",
      "2015 Descripción de Programa Presupuestario replaced with DESC_PP\n",
      "2015 Descripción de Ramo replaced with DESC_RAMO\n",
      "2015 Descripción de Subfunción replaced with DESC_SUBFUNCION\n",
      "2015 Descripción de Tipo de Gasto replaced with DESC_TIPOGASTO\n",
      "2015 Descripción de Unidad Responsable replaced with DESC_UR\n",
      "2015 Descripción de la Actividad Institucional replaced with DESC_AI\n",
      "2015 Descripción de la entidad federativa replaced with DESC_ENT_FED\n",
      "2015 Descripción de la modalidad del programa presupuestario replaced with DESC_MODALIDAD\n",
      "2015 Devengado replaced with MONTO_DEVENGADO\n",
      "2015 Ejercicio replaced with MONTO_EJERCICIO\n",
      "2015 Entidad Federativa replaced with ENTIDAD\n",
      "2015 Fuente de Financiamiento replaced with ID_FF\n",
      "2015 Función replaced with ID_FUNCION\n",
      "2015 Grupo Funcional replaced with GPO_FUNCIONAL\n",
      "2015 Modalidad del Programa presupuestario replaced with ID_MODALIDAD\n",
      "2015 Modificado replaced with MONTO_MODIFICADO\n",
      "2015 Objeto del Gasto replaced with ID_CONCEPTO\n",
      "2015 Pagado replaced with MONTO_PAGADO\n",
      "2015 Programa Presupuestario replaced with ID_PP\n",
      "2015 Ramo replaced with ID_RAMO\n",
      "2015 Subfunción replaced with ID_SUBFUNCION\n",
      "2015 Tipo de Gasto replaced with ID_TIPOGASTO\n",
      "2015 Unidad Responsable replaced with ID_UR\n",
      "2016 Actividad Institucional replaced with ID_AI\n",
      "2016 Aprobado replaced with MONTO_APROBADO\n",
      "2016 Ciclo replaced with CICLO\n",
      "2016 Clave de cartera replaced with ID_PPI\n",
      "2016 Descripción de Fuente de Financiamiento replaced with DESC_FF\n",
      "2016 Descripción de Función replaced with DESC_FUNCION\n",
      "2016 Descripción de Grupo Funcional replaced with DESC_GPO_FUNCIONAL\n",
      "2016 Descripción de Programa Presupuestario replaced with DESC_PP\n",
      "2016 Descripción de Ramo replaced with DESC_RAMO\n",
      "2016 Descripción de Subfunción replaced with DESC_SUBFUNCION\n",
      "2016 Descripción de Tipo de Gasto replaced with DESC_TIPOGASTO\n",
      "2016 Descripción de Unidad Responsable replaced with DESC_UR\n",
      "2016 Descripción de la Actividad Institucional replaced with DESC_AI\n",
      "2016 Descripción de la entidad federativa replaced with DESC_ENT_FED\n",
      "2016 Descripción de la modalidad del programa presupuestario replaced with DESC_MODALIDAD\n",
      "2016 Ejercido replaced with MONTO_EJERCIDO\n",
      "2016 Entidad Federativa replaced with ENTIDAD\n",
      "2016 Fuente de Financiamiento replaced with ID_FF\n",
      "2016 Función replaced with ID_FUNCION\n",
      "2016 Grupo Funcional replaced with GPO_FUNCIONAL\n",
      "2016 Modalidad del Programa presupuestario replaced with ID_MODALIDAD\n",
      "2016 Pagado replaced with MONTO_PAGADO\n",
      "2016 Programa Presupuestario replaced with ID_PP\n",
      "2016 Ramo replaced with ID_RAMO\n",
      "2016 Subfunción replaced with ID_SUBFUNCION\n",
      "2016 Tipo de Gasto replaced with ID_TIPOGASTO\n",
      "2016 Unidad Responsable replaced with ID_UR\n",
      "\n",
      " Counting missing values \n",
      "\n",
      "2008 found 2 missing values in DESC_CONCEPTO\n",
      "2009 found 2 missing values in DESC_CONCEPTO\n",
      "2012 found 28 missing values in DESC_CONCEPTO\n",
      "2016 found 170 missing values in MONTO_EJERCIDO\n",
      "2012 found 1 missing values in MONTO_APROBADO\n",
      "2012 found 172 missing values in DESC_ENT_FED\n",
      "2016 found 170 missing values in MONTO_PAGADO\n",
      "\n",
      " Building column mapping overview \n",
      "\n",
      "Column mapping overview: done\n",
      "\n",
      " Cleaning expenditure columns \n",
      "\n",
      "2008 cleaned and summed MONTO_EJERCIDO = 2.5766918301e+12 pesos\n",
      "2009 cleaned and summed MONTO_EJERCIDO = 2.29608578324e+12 pesos\n",
      "2010 cleaned and summed MONTO_EJERCIDO = 2.47409995292e+12 pesos\n",
      "2011 cleaned and summed MONTO_EJERCIDO = 2.7173722131e+12 pesos\n",
      "2012 cleaned and summed MONTO_EJERCIDO = 2.89633102379e+12 pesos\n",
      "2016 cleaned and summed MONTO_EJERCIDO = 2.16093940434e+12 pesos\n",
      "2014 cleaned and summed MONTO_DEVENGADO = 5.07680959218e+12 pesos\n",
      "2015 cleaned and summed MONTO_DEVENGADO = 5.50898738409e+12 pesos\n",
      "2008 cleaned and summed MONTO_APROBADO = 1.99235625716e+12 pesos\n",
      "2009 cleaned and summed MONTO_APROBADO = 2.28971502663e+12 pesos\n",
      "2010 cleaned and summed MONTO_APROBADO = 2.37691503329e+12 pesos\n",
      "2011 cleaned and summed MONTO_APROBADO = 2.56019587954e+12 pesos\n",
      "2012 cleaned and summed MONTO_APROBADO = 2.75486845421e+12 pesos\n",
      "2013 cleaned and summed MONTO_APROBADO = 4.32261895107e+12 pesos\n",
      "2014 cleaned and summed MONTO_APROBADO = 4.90540104801e+12 pesos\n",
      "2015 cleaned and summed MONTO_APROBADO = 5.13844187618e+12 pesos\n",
      "2016 cleaned and summed MONTO_APROBADO = 5.29712624151e+12 pesos\n",
      "2014 cleaned and summed MONTO_PAGADO = 4.97271188823e+12 pesos\n",
      "2015 cleaned and summed MONTO_PAGADO = 5.36665236595e+12 pesos\n",
      "2016 cleaned and summed MONTO_PAGADO = 2.13767909961e+12 pesos\n",
      "2014 cleaned and summed MONTO_MODIFICADO = 5.01398959052e+12 pesos\n",
      "2015 cleaned and summed MONTO_MODIFICADO = 5.39860796016e+12 pesos\n",
      "2014 cleaned and summed MONTO_ADEFAS = 36941614665.9 pesos\n",
      "2015 cleaned and summed MONTO_ADEFAS = 31122648942.8 pesos\n",
      "2013 cleaned and summed MONTO_EJERCICIO = 4.6176176865e+12 pesos\n",
      "2014 cleaned and summed MONTO_EJERCICIO = 5.01087684943e+12 pesos\n",
      "2015 cleaned and summed MONTO_EJERCICIO = 5.39901795156e+12 pesos\n",
      "\n",
      " Breaking down Objeto del Gasto column \n",
      "\n",
      "Loaded catalog CAPITULO into \"capitulo\" (9 lines)\n",
      "Loaded catalog CONCEPTO into \"concepto\" (63 lines)\n",
      "Loaded catalog PARTIDA GENERICA into \"partida_generica\" (866 lines)\n",
      "Loaded catalog PARTIDA ESPECÍFICA into \"partida_específica\" (668 lines)\n",
      "\n",
      "2008 broke down \"Objeto del Gasto\" column\n",
      "2009 broke down \"Objeto del Gasto\" column\n",
      "2010 broke down \"Objeto del Gasto\" column\n",
      "2011 broke down \"Objeto del Gasto\" column\n",
      "2012 broke down \"Objeto del Gasto\" column\n",
      "2013 broke down \"Objeto del Gasto\" column\n",
      "2014 broke down \"Objeto del Gasto\" column\n",
      "Traceback (most recent call last):\n",
      "  File \"/usr/local/lib/python3.5/dist-packages/IPython/core/interactiveshell.py\", line 2869, in run_code\n",
      "    exec(code_obj, self.user_global_ns, self.user_ns)\n",
      "  File \"<ipython-input-29-4612fff38064>\", line 1, in <module>\n",
      "    budgets, missing_ids, column_mapping, missing_values, sums = do_pipeline()\n",
      "  File \"<ipython-input-28-3747e6d652f4>\", line 31, in do_pipeline\n",
      "    missing_catalog_ids = split_objeto_del_gasto(datasets)\n",
      "  File \"<ipython-input-25-82e3283a0772>\", line 28, in split_objeto_del_gasto\n",
      "    batch[year]['DESC_CONCEPTO'] = batch[year]['ID_CONCEPTO'].map(lambda x: lookup(x, 'concepto', year))\n",
      "  File \"/usr/local/lib/python3.5/dist-packages/pandas/core/series.py\", line 2104, in map\n",
      "    new_values = map_f(values, arg)\n",
      "  File \"pandas/src/inference.pyx\", line 1088, in pandas.lib.map_infer (pandas/lib.c:62658)\n",
      "  File \"<ipython-input-25-82e3283a0772>\", line 28, in <lambda>\n",
      "    batch[year]['DESC_CONCEPTO'] = batch[year]['ID_CONCEPTO'].map(lambda x: lookup(x, 'concepto', year))\n",
      "  File \"<ipython-input-25-82e3283a0772>\", line 10, in lookup\n",
      "    return catalog[table].loc[n]\n",
      "  File \"/usr/local/lib/python3.5/dist-packages/pandas/core/indexing.py\", line 1296, in __getitem__\n",
      "    return self._getitem_axis(key, axis=0)\n",
      "  File \"/usr/local/lib/python3.5/dist-packages/pandas/core/indexing.py\", line 1438, in _getitem_axis\n",
      "    elif is_bool_indexer(key):\n",
      "  File \"/usr/local/lib/python3.5/dist-packages/pandas/core/common.py\", line 1204, in is_bool_indexer\n",
      "    if isinstance(key, (gt.ABCSeries, np.ndarray)):\n",
      "  File \"/usr/local/lib/python3.5/dist-packages/pandas/types/generic.py\", line 9, in _check\n",
      "    return getattr(inst, attr, '_typ') in comp\n",
      "KeyboardInterrupt\n",
      "\n",
      "During handling of the above exception, another exception occurred:\n",
      "\n",
      "Traceback (most recent call last):\n",
      "  File \"/usr/local/lib/python3.5/dist-packages/IPython/core/interactiveshell.py\", line 1809, in showtraceback\n",
      "    stb = value._render_traceback_()\n",
      "AttributeError: 'KeyboardInterrupt' object has no attribute '_render_traceback_'\n",
      "\n",
      "During handling of the above exception, another exception occurred:\n",
      "\n",
      "Traceback (most recent call last):\n",
      "  File \"/usr/local/lib/python3.5/dist-packages/IPython/core/ultratb.py\", line 1132, in get_records\n",
      "    return _fixed_getinnerframes(etb, number_of_lines_of_context, tb_offset)\n",
      "  File \"/usr/local/lib/python3.5/dist-packages/IPython/core/ultratb.py\", line 313, in wrapped\n",
      "    return f(*args, **kwargs)\n",
      "  File \"/usr/local/lib/python3.5/dist-packages/IPython/core/ultratb.py\", line 358, in _fixed_getinnerframes\n",
      "    records = fix_frame_records_filenames(inspect.getinnerframes(etb, context))\n",
      "  File \"/usr/lib/python3.5/inspect.py\", line 1453, in getinnerframes\n",
      "    frameinfo = (tb.tb_frame,) + getframeinfo(tb, context)\n",
      "  File \"/usr/lib/python3.5/inspect.py\", line 1414, in getframeinfo\n",
      "    lines, lnum = findsource(frame)\n",
      "  File \"/usr/local/lib/python3.5/dist-packages/IPython/core/ultratb.py\", line 182, in findsource\n",
      "    lines = linecache.getlines(file, globals_dict)\n",
      "  File \"/usr/lib/python3.5/linecache.py\", line 47, in getlines\n",
      "    return updatecache(filename, module_globals)\n",
      "  File \"/usr/lib/python3.5/linecache.py\", line 136, in updatecache\n",
      "    with tokenize.open(fullname) as fp:\n",
      "  File \"/usr/lib/python3.5/tokenize.py\", line 456, in open\n",
      "    encoding, lines = detect_encoding(buffer.readline)\n",
      "  File \"/usr/lib/python3.5/tokenize.py\", line 425, in detect_encoding\n",
      "    first = read_or_stop()\n",
      "  File \"/usr/lib/python3.5/tokenize.py\", line 383, in read_or_stop\n",
      "    return readline()\n",
      "KeyboardInterrupt\n"
     ]
    },
    {
     "ename": "KeyboardInterrupt",
     "evalue": "",
     "output_type": "error",
     "traceback": [
      "\u001b[0;31m---------------------------------------------------------------------------\u001b[0m"
     ]
    }
   ],
   "source": [
    "budgets, missing_ids, column_mapping, missing_values, sums = do_pipeline()"
   ]
  },
  {
   "cell_type": "code",
   "execution_count": null,
   "metadata": {
    "collapsed": false
   },
   "outputs": [],
   "source": [
    "from gc import collect\n",
    "collect()"
   ]
  },
  {
   "cell_type": "code",
   "execution_count": null,
   "metadata": {
    "collapsed": false
   },
   "outputs": [],
   "source": [
    "for year, budget in budgets.items():\n",
    "    filepath = MERGED_FILE.replace('merged', str(year))\n",
    "    budget.to_csv(filepath, encoding='utf-8', index=False)\n",
    "    print('Saved', filepath)\n",
    "    stdout.flush()"
   ]
  },
  {
   "cell_type": "code",
   "execution_count": null,
   "metadata": {
    "collapsed": false
   },
   "outputs": [],
   "source": [
    "merged = concat(list(budgets.values()))\n",
    "merged.to_csv(MERGED_FILE, encoding='utf-8', index=False)\n",
    "print('Saved merged dataset to', MERGED_FILE)    "
   ]
  },
  {
   "cell_type": "markdown",
   "metadata": {},
   "source": [
    "## Quality control"
   ]
  },
  {
   "cell_type": "code",
   "execution_count": null,
   "metadata": {
    "collapsed": false
   },
   "outputs": [],
   "source": [
    "sorted(list(budget.columns))"
   ]
  },
  {
   "cell_type": "code",
   "execution_count": null,
   "metadata": {
    "collapsed": false
   },
   "outputs": [],
   "source": [
    "merged.sample(n=20)"
   ]
  },
  {
   "cell_type": "code",
   "execution_count": null,
   "metadata": {
    "collapsed": false
   },
   "outputs": [],
   "source": [
    "objeto_breakdown = [\n",
    "    'CICLO', \n",
    "    'ID_CAPITULO', \n",
    "    'ID_CONCEPTO', \n",
    "    'PARTIDA_ESPECIFICA', \n",
    "    'PARTIDA_GENERICA'\n",
    "]\n",
    "merged[objeto_breakdown].sample(n=20)"
   ]
  },
  {
   "cell_type": "code",
   "execution_count": null,
   "metadata": {
    "collapsed": false
   },
   "outputs": [],
   "source": [
    "print('Total: missing', len(missing_ids), 'catalog IDs to breakdown the \"Objeto del Gasto\" column')\n",
    "print('Tables:', dict(missing_ids.groupby('table').count()['ID']))\n",
    "print('Years:', dict(missing_ids.groupby('year').count()['ID']))\n",
    "try:\n",
    "    missing_ids.sample(n=20)\n",
    "except ValueError:\n",
    "    pass"
   ]
  },
  {
   "cell_type": "code",
   "execution_count": null,
   "metadata": {
    "collapsed": false
   },
   "outputs": [],
   "source": [
    "missing_ids.info()"
   ]
  },
  {
   "cell_type": "code",
   "execution_count": null,
   "metadata": {
    "collapsed": false
   },
   "outputs": [],
   "source": [
    "column_mapping"
   ]
  },
  {
   "cell_type": "code",
   "execution_count": null,
   "metadata": {
    "collapsed": false
   },
   "outputs": [],
   "source": [
    "missing_values"
   ]
  },
  {
   "cell_type": "code",
   "execution_count": null,
   "metadata": {
    "collapsed": false
   },
   "outputs": [],
   "source": [
    "sums"
   ]
  },
  {
   "cell_type": "code",
   "execution_count": null,
   "metadata": {
    "collapsed": false
   },
   "outputs": [],
   "source": [
    "merged.sample(n=20)"
   ]
  },
  {
   "cell_type": "code",
   "execution_count": null,
   "metadata": {
    "collapsed": false
   },
   "outputs": [],
   "source": [
    "breakdown = [\n",
    "    'CICLO', \n",
    "    'ID_CAPITULO', \n",
    "    'ID_CONCEPTO', \n",
    "    'PARTIDA_GENERICA',        \n",
    "    'PARTIDA_ESPECIFICA', \n",
    "    'DESC_CAPITULO',\n",
    "    'DESC_CONCEPTO', \n",
    "    'DESC_PARTIDA_GENERICA',\n",
    "    'DESC_PARTIDA_ESPECIFICA'\n",
    "]\n",
    "\n",
    "merged[breakdown].sample(n=200)"
   ]
  },
  {
   "cell_type": "code",
   "execution_count": null,
   "metadata": {
    "collapsed": false
   },
   "outputs": [],
   "source": [
    "merged.info()"
   ]
  },
  {
   "cell_type": "code",
   "execution_count": null,
   "metadata": {
    "collapsed": false
   },
   "outputs": [],
   "source": [
    "len(merged)"
   ]
  },
  {
   "cell_type": "code",
   "execution_count": null,
   "metadata": {
    "collapsed": true
   },
   "outputs": [],
   "source": [
    "merged.sample(n=10000).to_csv('pipeline.out/iteration-15-all-new-data-2008-2016/mexican_federal_budget_sample.csv')"
   ]
  },
  {
   "cell_type": "code",
   "execution_count": null,
   "metadata": {
    "collapsed": false
   },
   "outputs": [],
   "source": [
    "merged['CICLO'].value_counts()"
   ]
  },
  {
   "cell_type": "code",
   "execution_count": null,
   "metadata": {
    "collapsed": false
   },
   "outputs": [],
   "source": [
    "pwd"
   ]
  },
  {
   "cell_type": "code",
   "execution_count": 30,
   "metadata": {
    "collapsed": false
   },
   "outputs": [
    {
     "name": "stderr",
     "output_type": "stream",
     "text": [
      "/usr/local/lib/python3.5/dist-packages/IPython/core/interactiveshell.py:2705: DtypeWarning: Columns (4,9,10,24,25,28) have mixed types. Specify dtype option on import or set low_memory=False.\n",
      "  interactivity=interactivity, compiler=compiler, result=result)\n"
     ]
    }
   ],
   "source": [
    "merged2 = read_csv('pipeline.out/iteration-16-all-new-data-2008-2016/mexican_federal_budget.csv')"
   ]
  },
  {
   "cell_type": "code",
   "execution_count": 31,
   "metadata": {
    "collapsed": false
   },
   "outputs": [
    {
     "data": {
      "text/plain": [
       "2015    341256\n",
       "2014    340699\n",
       "2013    308453\n",
       "2012    272142\n",
       "2009    146382\n",
       "2011    142549\n",
       "2008    130950\n",
       "2010    129014\n",
       "2016     98204\n",
       "Name: CICLO, dtype: int64"
      ]
     },
     "execution_count": 31,
     "metadata": {},
     "output_type": "execute_result"
    }
   ],
   "source": [
    "merged2['CICLO'].value_counts()"
   ]
  },
  {
   "cell_type": "code",
   "execution_count": 33,
   "metadata": {
    "collapsed": false
   },
   "outputs": [
    {
     "data": {
      "text/html": [
       "<div>\n",
       "<table border=\"1\" class=\"dataframe\">\n",
       "  <thead>\n",
       "    <tr style=\"text-align: right;\">\n",
       "      <th></th>\n",
       "      <th>ID_RAMO</th>\n",
       "      <th>ID_UR</th>\n",
       "      <th>PP</th>\n",
       "      <th>ID_MODALIDAD</th>\n",
       "    </tr>\n",
       "  </thead>\n",
       "  <tbody>\n",
       "    <tr>\n",
       "      <th>375981</th>\n",
       "      <td>2</td>\n",
       "      <td>113</td>\n",
       "      <td>1</td>\n",
       "      <td>O</td>\n",
       "    </tr>\n",
       "    <tr>\n",
       "      <th>118796</th>\n",
       "      <td>8</td>\n",
       "      <td>150</td>\n",
       "      <td>1</td>\n",
       "      <td>M</td>\n",
       "    </tr>\n",
       "    <tr>\n",
       "      <th>39928</th>\n",
       "      <td>3</td>\n",
       "      <td>100</td>\n",
       "      <td>1</td>\n",
       "      <td>R</td>\n",
       "    </tr>\n",
       "    <tr>\n",
       "      <th>427925</th>\n",
       "      <td>11</td>\n",
       "      <td>216</td>\n",
       "      <td>1</td>\n",
       "      <td>P</td>\n",
       "    </tr>\n",
       "    <tr>\n",
       "      <th>375350</th>\n",
       "      <td>40</td>\n",
       "      <td>100</td>\n",
       "      <td>1</td>\n",
       "      <td>P</td>\n",
       "    </tr>\n",
       "    <tr>\n",
       "      <th>1286550</th>\n",
       "      <td>9</td>\n",
       "      <td>632</td>\n",
       "      <td>31</td>\n",
       "      <td>K</td>\n",
       "    </tr>\n",
       "    <tr>\n",
       "      <th>101306</th>\n",
       "      <td>4</td>\n",
       "      <td>311</td>\n",
       "      <td>1</td>\n",
       "      <td>P</td>\n",
       "    </tr>\n",
       "    <tr>\n",
       "      <th>398843</th>\n",
       "      <td>9</td>\n",
       "      <td>111</td>\n",
       "      <td>1</td>\n",
       "      <td>M</td>\n",
       "    </tr>\n",
       "    <tr>\n",
       "      <th>643604</th>\n",
       "      <td>38</td>\n",
       "      <td>90I</td>\n",
       "      <td>1</td>\n",
       "      <td>E</td>\n",
       "    </tr>\n",
       "    <tr>\n",
       "      <th>1874958</th>\n",
       "      <td>51</td>\n",
       "      <td>GYN</td>\n",
       "      <td>22</td>\n",
       "      <td>J</td>\n",
       "    </tr>\n",
       "    <tr>\n",
       "      <th>617150</th>\n",
       "      <td>18</td>\n",
       "      <td>411</td>\n",
       "      <td>1</td>\n",
       "      <td>M</td>\n",
       "    </tr>\n",
       "    <tr>\n",
       "      <th>1087719</th>\n",
       "      <td>20</td>\n",
       "      <td>135</td>\n",
       "      <td>71</td>\n",
       "      <td>S</td>\n",
       "    </tr>\n",
       "    <tr>\n",
       "      <th>828703</th>\n",
       "      <td>17</td>\n",
       "      <td>814</td>\n",
       "      <td>2</td>\n",
       "      <td>E</td>\n",
       "    </tr>\n",
       "    <tr>\n",
       "      <th>923820</th>\n",
       "      <td>4</td>\n",
       "      <td>D00</td>\n",
       "      <td>1</td>\n",
       "      <td>M</td>\n",
       "    </tr>\n",
       "    <tr>\n",
       "      <th>552094</th>\n",
       "      <td>9</td>\n",
       "      <td>C00</td>\n",
       "      <td>10</td>\n",
       "      <td>E</td>\n",
       "    </tr>\n",
       "    <tr>\n",
       "      <th>1698294</th>\n",
       "      <td>12</td>\n",
       "      <td>NBR</td>\n",
       "      <td>1</td>\n",
       "      <td>O</td>\n",
       "    </tr>\n",
       "    <tr>\n",
       "      <th>1442381</th>\n",
       "      <td>22</td>\n",
       "      <td>300</td>\n",
       "      <td>2</td>\n",
       "      <td>R</td>\n",
       "    </tr>\n",
       "    <tr>\n",
       "      <th>658962</th>\n",
       "      <td>4</td>\n",
       "      <td>K00</td>\n",
       "      <td>8</td>\n",
       "      <td>E</td>\n",
       "    </tr>\n",
       "    <tr>\n",
       "      <th>779504</th>\n",
       "      <td>12</td>\n",
       "      <td>NDY</td>\n",
       "      <td>1</td>\n",
       "      <td>O</td>\n",
       "    </tr>\n",
       "    <tr>\n",
       "      <th>1081296</th>\n",
       "      <td>17</td>\n",
       "      <td>412</td>\n",
       "      <td>3</td>\n",
       "      <td>E</td>\n",
       "    </tr>\n",
       "  </tbody>\n",
       "</table>\n",
       "</div>"
      ],
      "text/plain": [
       "        ID_RAMO ID_UR  PP ID_MODALIDAD\n",
       "375981        2   113   1            O\n",
       "118796        8   150   1            M\n",
       "39928         3   100   1            R\n",
       "427925       11   216   1            P\n",
       "375350       40   100   1            P\n",
       "1286550       9   632  31            K\n",
       "101306        4   311   1            P\n",
       "398843        9   111   1            M\n",
       "643604       38   90I   1            E\n",
       "1874958      51   GYN  22            J\n",
       "617150       18   411   1            M\n",
       "1087719      20   135  71            S\n",
       "828703       17   814   2            E\n",
       "923820        4   D00   1            M\n",
       "552094        9   C00  10            E\n",
       "1698294      12   NBR   1            O\n",
       "1442381      22   300   2            R\n",
       "658962        4   K00   8            E\n",
       "779504       12   NDY   1            O\n",
       "1081296      17   412   3            E"
      ]
     },
     "execution_count": 33,
     "metadata": {},
     "output_type": "execute_result"
    }
   ],
   "source": [
    "merged2[['ID_RAMO', 'ID_UR', 'PP', 'ID_MODALIDAD']].sample(n=20)"
   ]
  },
  {
   "cell_type": "code",
   "execution_count": 34,
   "metadata": {
    "collapsed": false
   },
   "outputs": [
    {
     "data": {
      "text/html": [
       "<div>\n",
       "<table border=\"1\" class=\"dataframe\">\n",
       "  <thead>\n",
       "    <tr style=\"text-align: right;\">\n",
       "      <th></th>\n",
       "      <th>DESC_RAMO</th>\n",
       "      <th>DESC_UR</th>\n",
       "      <th>DESC_PP</th>\n",
       "      <th>DESC_MODALIDAD</th>\n",
       "    </tr>\n",
       "  </thead>\n",
       "  <tbody>\n",
       "    <tr>\n",
       "      <th>1378968</th>\n",
       "      <td>Medio Ambiente y Recursos Naturales</td>\n",
       "      <td>Comisión Nacional del Agua</td>\n",
       "      <td>Programa de gestión hídrica</td>\n",
       "      <td>Regulación y supervisión</td>\n",
       "    </tr>\n",
       "    <tr>\n",
       "      <th>157786</th>\n",
       "      <td>Educación Pública</td>\n",
       "      <td>Oficina de Servicios Federales de Apoyo a la E...</td>\n",
       "      <td>Diseño y aplicación de la política educativa</td>\n",
       "      <td>Planeación, formulación, implementación, segui...</td>\n",
       "    </tr>\n",
       "    <tr>\n",
       "      <th>1676294</th>\n",
       "      <td>Economía</td>\n",
       "      <td>Subdelegación en Cancún</td>\n",
       "      <td>Atención a las solicitudes de servicios y prom...</td>\n",
       "      <td>Prestación de Servicios Públicos</td>\n",
       "    </tr>\n",
       "    <tr>\n",
       "      <th>150369</th>\n",
       "      <td>Comunicaciones y Transportes</td>\n",
       "      <td>Comisión Federal de Telecomunicaciones</td>\n",
       "      <td>Actividades de apoyo a la función pública y bu...</td>\n",
       "      <td>Actividades de apoyo a la función pública y al...</td>\n",
       "    </tr>\n",
       "    <tr>\n",
       "      <th>1834007</th>\n",
       "      <td>Energía</td>\n",
       "      <td>Petróleos Mexicanos (Consolidado)</td>\n",
       "      <td>Servicios médicos al personal de PEMEX</td>\n",
       "      <td>Prestación de Servicios Públicos</td>\n",
       "    </tr>\n",
       "    <tr>\n",
       "      <th>325572</th>\n",
       "      <td>Trabajo y Previsión Social</td>\n",
       "      <td>Dirección General de Recursos Humanos</td>\n",
       "      <td>Actividades de apoyo administrativo</td>\n",
       "      <td>Apoyo al proceso presupuestario y para mejorar...</td>\n",
       "    </tr>\n",
       "    <tr>\n",
       "      <th>782426</th>\n",
       "      <td>Salud</td>\n",
       "      <td>Centro Nacional para la Salud de la Infancia y...</td>\n",
       "      <td>Promoción de la salud, prevención y control de...</td>\n",
       "      <td>Planeación, seguimiento y evaluación de políti...</td>\n",
       "    </tr>\n",
       "    <tr>\n",
       "      <th>680216</th>\n",
       "      <td>Agricultura, Ganadería, Desarrollo Rural, Pesc...</td>\n",
       "      <td>Servicio Nacional de Sanidad, Inocuidad y Cali...</td>\n",
       "      <td>Actividades de apoyo administrativo</td>\n",
       "      <td>Apoyo al proceso presupuestario y para mejorar...</td>\n",
       "    </tr>\n",
       "    <tr>\n",
       "      <th>824553</th>\n",
       "      <td>Procuraduría General de la República</td>\n",
       "      <td>Policía Federal Ministerial</td>\n",
       "      <td>Investigar y perseguir los delitos del orden f...</td>\n",
       "      <td>Prestación de Servicios Públicos</td>\n",
       "    </tr>\n",
       "    <tr>\n",
       "      <th>222553</th>\n",
       "      <td>Aportaciones Federales para Entidades Federati...</td>\n",
       "      <td>Dirección General de Programación y Presupuest...</td>\n",
       "      <td>Nuevo León</td>\n",
       "      <td>Gasto federalizado</td>\n",
       "    </tr>\n",
       "    <tr>\n",
       "      <th>1742772</th>\n",
       "      <td>Energía</td>\n",
       "      <td>Centro Nacional de Control del Gas Natural</td>\n",
       "      <td>Actividades de apoyo administrativo</td>\n",
       "      <td>Apoyo al proceso presupuestario y para mejorar...</td>\n",
       "    </tr>\n",
       "    <tr>\n",
       "      <th>1796684</th>\n",
       "      <td>Instituto Nacional Electoral</td>\n",
       "      <td>Juntas Locales Ejecutivas</td>\n",
       "      <td>Actualización del padrón electoral y expedició...</td>\n",
       "      <td>Específicos</td>\n",
       "    </tr>\n",
       "    <tr>\n",
       "      <th>1679883</th>\n",
       "      <td>Economía</td>\n",
       "      <td>ProMéxico</td>\n",
       "      <td>Promoción del Comercio Exterior y Atracción de...</td>\n",
       "      <td>Promoción y fomento</td>\n",
       "    </tr>\n",
       "    <tr>\n",
       "      <th>1678688</th>\n",
       "      <td>Economía</td>\n",
       "      <td>Instituto Nacional de la Economía Social</td>\n",
       "      <td>Programa de Fomento a la Economía Social</td>\n",
       "      <td>Sujetos a Reglas de Operación</td>\n",
       "    </tr>\n",
       "    <tr>\n",
       "      <th>1793346</th>\n",
       "      <td>Información Nacional Estadística y Geográfica</td>\n",
       "      <td>Instituto Nacional de Estadística y Geografía</td>\n",
       "      <td>Producción y difusión de información estadísti...</td>\n",
       "      <td>Planeación, seguimiento y evaluación de políti...</td>\n",
       "    </tr>\n",
       "    <tr>\n",
       "      <th>473159</th>\n",
       "      <td>Procuraduría General de la República</td>\n",
       "      <td>Delegación Estatal en Campeche</td>\n",
       "      <td>Combate a delitos del fuero federal</td>\n",
       "      <td>Prestación de Servicios Públicos</td>\n",
       "    </tr>\n",
       "    <tr>\n",
       "      <th>990273</th>\n",
       "      <td>Comunicaciones y Transportes</td>\n",
       "      <td>Centro SCT Sinaloa</td>\n",
       "      <td>Proyectos de infraestructura económica de carr...</td>\n",
       "      <td>Proyectos de Inversión</td>\n",
       "    </tr>\n",
       "    <tr>\n",
       "      <th>1602395</th>\n",
       "      <td>Defensa Nacional</td>\n",
       "      <td>Comandancia III Región Militar</td>\n",
       "      <td>Producción de árboles en viveros forestales mi...</td>\n",
       "      <td>Funciones de las Fuerzas Armadas</td>\n",
       "    </tr>\n",
       "    <tr>\n",
       "      <th>1368109</th>\n",
       "      <td>Trabajo y Previsión Social</td>\n",
       "      <td>Dirección General de Registro de Asociaciones</td>\n",
       "      <td>Actualización y registro de agrupaciones sindi...</td>\n",
       "      <td>Prestación de Servicios Públicos</td>\n",
       "    </tr>\n",
       "    <tr>\n",
       "      <th>925318</th>\n",
       "      <td>Gobernación</td>\n",
       "      <td>Instituto Nacional de Migración</td>\n",
       "      <td>Servicios migratorios en fronteras, puertos y ...</td>\n",
       "      <td>Prestación de Servicios Públicos</td>\n",
       "    </tr>\n",
       "  </tbody>\n",
       "</table>\n",
       "</div>"
      ],
      "text/plain": [
       "                                                 DESC_RAMO  \\\n",
       "1378968                Medio Ambiente y Recursos Naturales   \n",
       "157786                                   Educación Pública   \n",
       "1676294                                           Economía   \n",
       "150369                        Comunicaciones y Transportes   \n",
       "1834007                                            Energía   \n",
       "325572                          Trabajo y Previsión Social   \n",
       "782426                                               Salud   \n",
       "680216   Agricultura, Ganadería, Desarrollo Rural, Pesc...   \n",
       "824553                Procuraduría General de la República   \n",
       "222553   Aportaciones Federales para Entidades Federati...   \n",
       "1742772                                            Energía   \n",
       "1796684                       Instituto Nacional Electoral   \n",
       "1679883                                           Economía   \n",
       "1678688                                           Economía   \n",
       "1793346      Información Nacional Estadística y Geográfica   \n",
       "473159                Procuraduría General de la República   \n",
       "990273                        Comunicaciones y Transportes   \n",
       "1602395                                   Defensa Nacional   \n",
       "1368109                         Trabajo y Previsión Social   \n",
       "925318                                         Gobernación   \n",
       "\n",
       "                                                   DESC_UR  \\\n",
       "1378968                         Comisión Nacional del Agua   \n",
       "157786   Oficina de Servicios Federales de Apoyo a la E...   \n",
       "1676294                            Subdelegación en Cancún   \n",
       "150369              Comisión Federal de Telecomunicaciones   \n",
       "1834007                  Petróleos Mexicanos (Consolidado)   \n",
       "325572               Dirección General de Recursos Humanos   \n",
       "782426   Centro Nacional para la Salud de la Infancia y...   \n",
       "680216   Servicio Nacional de Sanidad, Inocuidad y Cali...   \n",
       "824553                         Policía Federal Ministerial   \n",
       "222553   Dirección General de Programación y Presupuest...   \n",
       "1742772         Centro Nacional de Control del Gas Natural   \n",
       "1796684                          Juntas Locales Ejecutivas   \n",
       "1679883                                          ProMéxico   \n",
       "1678688           Instituto Nacional de la Economía Social   \n",
       "1793346      Instituto Nacional de Estadística y Geografía   \n",
       "473159                      Delegación Estatal en Campeche   \n",
       "990273                                  Centro SCT Sinaloa   \n",
       "1602395                     Comandancia III Región Militar   \n",
       "1368109      Dirección General de Registro de Asociaciones   \n",
       "925318                     Instituto Nacional de Migración   \n",
       "\n",
       "                                                   DESC_PP  \\\n",
       "1378968                        Programa de gestión hídrica   \n",
       "157786        Diseño y aplicación de la política educativa   \n",
       "1676294  Atención a las solicitudes de servicios y prom...   \n",
       "150369   Actividades de apoyo a la función pública y bu...   \n",
       "1834007             Servicios médicos al personal de PEMEX   \n",
       "325572                 Actividades de apoyo administrativo   \n",
       "782426   Promoción de la salud, prevención y control de...   \n",
       "680216                 Actividades de apoyo administrativo   \n",
       "824553   Investigar y perseguir los delitos del orden f...   \n",
       "222553                                          Nuevo León   \n",
       "1742772                Actividades de apoyo administrativo   \n",
       "1796684  Actualización del padrón electoral y expedició...   \n",
       "1679883  Promoción del Comercio Exterior y Atracción de...   \n",
       "1678688           Programa de Fomento a la Economía Social   \n",
       "1793346  Producción y difusión de información estadísti...   \n",
       "473159                 Combate a delitos del fuero federal   \n",
       "990273   Proyectos de infraestructura económica de carr...   \n",
       "1602395  Producción de árboles en viveros forestales mi...   \n",
       "1368109  Actualización y registro de agrupaciones sindi...   \n",
       "925318   Servicios migratorios en fronteras, puertos y ...   \n",
       "\n",
       "                                            DESC_MODALIDAD  \n",
       "1378968                           Regulación y supervisión  \n",
       "157786   Planeación, formulación, implementación, segui...  \n",
       "1676294                   Prestación de Servicios Públicos  \n",
       "150369   Actividades de apoyo a la función pública y al...  \n",
       "1834007                   Prestación de Servicios Públicos  \n",
       "325572   Apoyo al proceso presupuestario y para mejorar...  \n",
       "782426   Planeación, seguimiento y evaluación de políti...  \n",
       "680216   Apoyo al proceso presupuestario y para mejorar...  \n",
       "824553                    Prestación de Servicios Públicos  \n",
       "222553                                  Gasto federalizado  \n",
       "1742772  Apoyo al proceso presupuestario y para mejorar...  \n",
       "1796684                                        Específicos  \n",
       "1679883                                Promoción y fomento  \n",
       "1678688                      Sujetos a Reglas de Operación  \n",
       "1793346  Planeación, seguimiento y evaluación de políti...  \n",
       "473159                    Prestación de Servicios Públicos  \n",
       "990273                              Proyectos de Inversión  \n",
       "1602395                   Funciones de las Fuerzas Armadas  \n",
       "1368109                   Prestación de Servicios Públicos  \n",
       "925318                    Prestación de Servicios Públicos  "
      ]
     },
     "execution_count": 34,
     "metadata": {},
     "output_type": "execute_result"
    }
   ],
   "source": [
    "merged2[['DESC_RAMO', 'DESC_UR', 'DESC_PP', 'DESC_MODALIDAD']].sample(n=20)"
   ]
  },
  {
   "cell_type": "code",
   "execution_count": null,
   "metadata": {
    "collapsed": true
   },
   "outputs": [],
   "source": []
  }
 ],
 "metadata": {
  "kernelspec": {
   "display_name": "Python 3",
   "language": "python",
   "name": "python3"
  },
  "language_info": {
   "codemirror_mode": {
    "name": "ipython",
    "version": 3
   },
   "file_extension": ".py",
   "mimetype": "text/x-python",
   "name": "python",
   "nbconvert_exporter": "python",
   "pygments_lexer": "ipython3",
   "version": "3.5.1+"
  }
 },
 "nbformat": 4,
 "nbformat_minor": 0
}
